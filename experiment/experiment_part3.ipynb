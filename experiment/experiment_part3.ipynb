{
 "cells": [
  {
   "cell_type": "code",
   "execution_count": 3,
   "metadata": {},
   "outputs": [],
   "source": [
    "def extract_sql_from_file(file_path):\n",
    "    with open(file_path, 'r') as file:\n",
    "        sql_commands = file.read().split(';')  # 将文件内容按分号分割成多个 SQL 语句\n",
    "        # 去除空白项并去除换行符\n",
    "        sql_commands = [sql.strip() for sql in sql_commands if sql.strip()]\n",
    "    return sql_commands\n",
    "\n",
    "\n",
    "# # 调用函数提取 SQL 语句\n",
    "# queries_list_tpcds = extract_sql_from_file('/home/ubuntu/project/mayang/LOGER/experiment/part3/tpcds_45.sql')\n",
    "# print(len(queries_list_tpcds))\n",
    "# # 调用函数提取 SQL 语句\n",
    "# queries_list_add = extract_sql_from_file('/home/ubuntu/project/mayang/LOGER/experiment/part3/query_add_45.sql')[:15]\n",
    "# print(len(queries_list_add))\n",
    "# queries_list=queries_list_tpcds+queries_list_add\n",
    "# len(queries_list)"
   ]
  },
  {
   "cell_type": "code",
   "execution_count": 4,
   "metadata": {},
   "outputs": [
    {
     "data": {
      "text/plain": [
       "60"
      ]
     },
     "execution_count": 4,
     "metadata": {},
     "output_type": "execute_result"
    }
   ],
   "source": [
    "# 调用函数提取 SQL 语句\n",
    "queries_list = extract_sql_from_file('/home/ubuntu/project/mayang/LOGER/experiment/part3/job_see.sql')\n",
    "len(queries_list)"
   ]
  },
  {
   "cell_type": "code",
   "execution_count": 63,
   "metadata": {},
   "outputs": [],
   "source": [
    "# def extract_sql_from_file(file_path):\n",
    "#     with open(file_path, 'r') as file:\n",
    "#         sql_commands = file.read().split(';')  # 将文件内容按分号分割成多个 SQL 语句\n",
    "#         # 去除空白项并去除换行符\n",
    "#         sql_commands = [sql.strip() for sql in sql_commands if sql.strip()]\n",
    "#     return sql_commands\n",
    "\n",
    "# def save_queries_to_file(queries, output_file_path):\n",
    "#     with open(output_file_path, 'w') as file:\n",
    "#         for query in queries:\n",
    "#             file.write(query + ';\\n')  # 在每个查询后添加分号\n",
    "\n",
    "# # 提取 SQL 语句\n",
    "# queries_list = extract_sql_from_file('/home/ubuntu/project/index_selection_evaluation/queries/tpch/tpch_queries.sql')\n",
    "\n",
    "# # 提取前10个查询\n",
    "# first_10_queries = queries_list[:16]\n",
    "\n",
    "# # 保存到新的 SQL 文件\n",
    "# save_queries_to_file(first_10_queries, '/home/ubuntu/project/mayang/LOGER/experiment/tpch/first_100_queries.sql')\n"
   ]
  },
  {
   "cell_type": "code",
   "execution_count": 64,
   "metadata": {},
   "outputs": [],
   "source": [
    "whatif_3_1=\"[I(C customer.c_customer_id), I(C customer_address.ca_address_sk), I(C item.i_item_id), I(C store.s_closed_date_sk,C store.s_store_sk), I(C household_demographics.hd_dep_count,C household_demographics.hd_vehicle_count), I(C store_sales.ss_sales_price,C store_sales.ss_sold_date_sk), I(C web_sales.ws_web_page_sk,C web_sales.ws_ship_hdemo_sk), I(C household_demographics.hd_dep_count), I(C customer.c_customer_sk), I(C date_dim.d_date_sk,C date_dim.d_quarter_name), I(C date_dim.d_year), I(C customer_address.ca_state), I(C store_returns.sr_cdemo_sk), I(C catalog_returns.cr_returning_customer_sk), I(C time_dim.t_hour), I(C store_sales.ss_quantity,C store_sales.ss_customer_sk), I(C promotion.p_promo_sk), I(C income_band.ib_income_band_sk,C income_band.ib_upper_bound), I(C web_sales.ws_order_number,C web_sales.ws_item_sk), I(C catalog_sales.cs_sold_date_sk), I(C store.s_gmt_offset), I(C date_dim.d_month_seq), I(C store_sales.ss_item_sk,C store_sales.ss_store_sk), I(C date_dim.d_date_sk,C date_dim.d_year), I(C date_dim.d_moy), I(C date_dim.d_quarter_name), I(C store.s_store_sk,C store.s_zip), I(C customer_demographics.cd_demo_sk), I(C household_demographics.hd_demo_sk), I(C web_returns.wr_reversed_charge)]\"\n",
    "lib_3_1=\"[I(C store.s_gmt_offset,C store.s_store_sk), I(C store_sales.ss_hdemo_sk,C store_sales.ss_customer_sk), I(C reason.r_reason_desc), I(C date_dim.d_quarter_name), I(C web_sales.ws_web_page_sk,C web_sales.ws_ship_hdemo_sk), I(C web_returns.wr_reversed_charge), I(C web_sales.ws_order_number,C web_sales.ws_item_sk), I(C household_demographics.hd_dep_count), I(C household_demographics.hd_dep_count,C household_demographics.hd_vehicle_count), I(C store_returns.sr_cdemo_sk), I(C item.i_class_id), I(C item.i_class_id,C item.i_category_id), I(C promotion.p_promo_sk), I(C catalog_sales.cs_bill_customer_sk,C catalog_sales.cs_item_sk), I(C store_sales.ss_sold_date_sk,C store_sales.ss_list_price), I(C item.i_class_id,C item.i_brand), I(C date_dim.d_month_seq,C date_dim.d_quarter_name), I(C household_demographics.hd_dep_count,C household_demographics.hd_demo_sk), I(C time_dim.t_hour,C time_dim.t_time_sk)]\"\n",
    "tree_model_3_1=\"[I(C promotion.p_promo_sk), I(C date_dim.d_date_sk,C date_dim.d_quarter_name), I(C store_sales.ss_hdemo_sk,C store_sales.ss_list_price), I(C store_sales.ss_item_sk,C store_sales.ss_store_sk), I(C customer_demographics.cd_demo_sk), I(C store_sales.ss_sales_price,C store_sales.ss_customer_sk), I(C time_dim.t_time_sk,C time_dim.t_hour), I(C item.i_item_id,C item.i_item_sk), I(C date_dim.d_quarter_name), I(C reason.r_reason_desc,C reason.r_reason_sk), I(C store_sales.ss_quantity,C store_sales.ss_coupon_amt), I(C time_dim.t_hour), I(C date_dim.d_month_seq,C date_dim.d_date_sk), I(C household_demographics.hd_demo_sk)]\"\n"
   ]
  },
  {
   "cell_type": "code",
   "execution_count": 65,
   "metadata": {},
   "outputs": [],
   "source": [
    "whatif_2_1=\"[I(C customer_demographics.cd_demo_sk), I(C household_demographics.hd_dep_count,C household_demographics.hd_vehicle_count), I(C store_sales.ss_item_sk,C store_sales.ss_sold_date_sk), I(C date_dim.d_quarter_name,C date_dim.d_year), I(C household_demographics.hd_demo_sk), I(C customer_address.ca_address_sk), I(C date_dim.d_date_sk,C date_dim.d_year), I(C promotion.p_promo_sk), I(C store_sales.ss_net_profit), I(C store.s_store_sk), I(C store.s_gmt_offset), I(C household_demographics.hd_dep_count), I(C catalog_sales.cs_sold_date_sk), I(C item.i_item_sk), I(C store_returns.sr_cdemo_sk), I(C store.s_closed_date_sk,C store.s_store_sk), I(C customer.c_customer_id), I(C item.i_item_id,C item.i_item_sk), I(C customer.c_customer_sk), I(C income_band.ib_income_band_sk,C income_band.ib_lower_bound), I(C store_sales.ss_item_sk,C store_sales.ss_store_sk), I(C date_dim.d_year), I(C store_sales.ss_quantity,C store_sales.ss_customer_sk)]\"\n",
    "lib_2_1=\"[I(C store_sales.ss_coupon_amt,C store_sales.ss_item_sk), I(C date_dim.d_quarter_name,C date_dim.d_moy), I(C catalog_sales.cs_warehouse_sk,C catalog_sales.cs_item_sk), I(C date_dim.d_same_day_lq,C date_dim.d_quarter_name), I(C household_demographics.hd_dep_count,C household_demographics.hd_demo_sk), I(C store_returns.sr_cdemo_sk), I(C time_dim.t_hour,C time_dim.t_time_sk), I(C date_dim.d_moy,C date_dim.d_same_day_lq), I(C catalog_sales.cs_warehouse_sk,C catalog_sales.cs_bill_customer_sk), I(C date_dim.d_same_day_lq), I(C web_sales.ws_web_page_sk,C web_sales.ws_ship_hdemo_sk), I(C household_demographics.hd_dep_count), I(C item.i_category_id,C item.i_category), I(C date_dim.d_quarter_name,C date_dim.d_same_day_lq), I(C date_dim.d_moy,C date_dim.d_quarter_name), I(C reason.r_reason_desc), I(C date_dim.d_same_day_lq,C date_dim.d_moy), I(C date_dim.d_quarter_name), I(C item.i_manager_id,C item.i_category_id), I(C web_sales.ws_item_sk,C web_sales.ws_order_number), I(C web_returns.wr_reversed_charge), I(C date_dim.d_month_seq,C date_dim.d_same_day_lq), I(C store.s_store_sk,C store.s_state), I(C store.s_gmt_offset,C store.s_store_sk), I(C catalog_returns.cr_returned_time_sk,C catalog_returns.cr_reversed_charge), I(C store_sales.ss_hdemo_sk,C store_sales.ss_net_profit), I(C promotion.p_promo_sk), I(C date_dim.d_moy), I(C time_dim.t_time_sk), I(C household_demographics.hd_dep_count,C household_demographics.hd_vehicle_count), I(C item.i_class_id,C item.i_category_id)]\"\n",
    "tree_model_2_1=\"[I(C store_sales.ss_customer_sk,C store_sales.ss_list_price), I(C catalog_sales.cs_bill_customer_sk,C catalog_sales.cs_item_sk), I(C catalog_sales.cs_call_center_sk,C catalog_sales.cs_ship_customer_sk), I(C item.i_class_id), I(C store.s_closed_date_sk,C store.s_store_sk), I(C store_sales.ss_item_sk,C store_sales.ss_customer_sk), I(C store_sales.ss_store_sk,C store_sales.ss_net_profit), I(C time_dim.t_hour), I(C time_dim.t_time_sk,C time_dim.t_hour), I(C date_dim.d_month_seq,C date_dim.d_date_sk), I(C item.i_item_sk,C item.i_item_id)]\""
   ]
  },
  {
   "cell_type": "code",
   "execution_count": 66,
   "metadata": {},
   "outputs": [],
   "source": [
    "whatif_1_1=\"[I(C date_dim.d_date_sk,C date_dim.d_year), I(C web_sales.ws_web_page_sk,C web_sales.ws_ship_hdemo_sk), I(C store_sales.ss_quantity,C store_sales.ss_customer_sk), I(C catalog_sales.cs_warehouse_sk,C catalog_sales.cs_item_sk), I(C time_dim.t_hour), I(C household_demographics.hd_income_band_sk), I(C date_dim.d_year), I(C date_dim.d_last_dom), I(C date_dim.d_same_day_lq), I(C household_demographics.hd_demo_sk), I(C store.s_gmt_offset), I(C store.s_closed_date_sk,C store.s_store_sk), I(C item.i_item_sk), I(C customer.c_customer_sk), I(C store.s_store_sk,C store.s_closed_date_sk), I(C store_sales.ss_sold_date_sk,C store_sales.ss_store_sk), I(C catalog_sales.cs_sold_date_sk), I(C household_demographics.hd_dep_count,C household_demographics.hd_vehicle_count), I(C promotion.p_promo_sk), I(C customer.c_current_addr_sk,C customer.c_customer_sk), I(C customer_address.ca_address_sk), I(C store_sales.ss_item_sk,C store_sales.ss_sold_date_sk), I(C date_dim.d_date_sk), I(C customer_demographics.cd_demo_sk), I(C date_dim.d_month_seq), I(C household_demographics.hd_dep_count)]\"\n",
    "lib_1_1=\"[I(C web_returns.wr_reversed_charge), I(C household_demographics.hd_dep_count,C household_demographics.hd_income_band_sk), I(C customer.c_birth_month), I(C store.s_gmt_offset,C store.s_store_sk), I(C date_dim.d_last_dom,C date_dim.d_same_day_lq), I(C inventory.inv_warehouse_sk), I(C item.i_class_id,C item.i_category_id), I(C date_dim.d_same_day_lq,C date_dim.d_year), I(C store_returns.sr_cdemo_sk), I(C date_dim.d_same_day_lq,C date_dim.d_month_seq), I(C item.i_class_id), I(C date_dim.d_last_dom), I(C customer.c_customer_id,C customer.c_birth_month), I(C date_dim.d_same_day_lq,C date_dim.d_last_dom), I(C store.s_gmt_offset), I(C customer_demographics.cd_dep_count), I(C household_demographics.hd_dep_count), I(C promotion.p_promo_sk), I(C date_dim.d_same_day_lq), I(C customer.c_birth_month,C customer.c_customer_id), I(C time_dim.t_hour,C time_dim.t_time_sk), I(C catalog_returns.cr_returning_customer_sk,C catalog_returns.cr_returned_time_sk), I(C household_demographics.hd_dep_count,C household_demographics.hd_vehicle_count), I(C item.i_class_id,C item.i_brand), I(C store_sales.ss_quantity,C store_sales.ss_sold_date_sk)]\"\n",
    "tree_model_1_1=\"[I(C store.s_store_sk,C store.s_closed_date_sk), I(C date_dim.d_same_day_lq,C date_dim.d_month_seq), I(C date_dim.d_date_sk), I(C time_dim.t_hour), I(C customer_address.ca_address_sk,C customer_address.ca_state), I(C store_sales.ss_quantity,C store_sales.ss_customer_sk), I(C item.i_class_id), I(C date_dim.d_date_sk,C date_dim.d_year), I(C store_sales.ss_sales_price,C store_sales.ss_store_sk), I(C reason.r_reason_desc), I(C household_demographics.hd_demo_sk,C household_demographics.hd_income_band_sk), I(C time_dim.t_time_sk,C time_dim.t_hour), I(C date_dim.d_year), I(C catalog_returns.cr_returning_customer_sk), I(C store_sales.ss_store_sk,C store_sales.ss_sold_date_sk), I(C store_sales.ss_item_sk,C store_sales.ss_store_sk), I(C date_dim.d_month_seq,C date_dim.d_date_sk), I(C item.i_item_sk,C item.i_item_id), I(C date_dim.d_last_dom), I(C customer.c_customer_sk,C customer.c_current_addr_sk)]\"\n"
   ]
  },
  {
   "cell_type": "code",
   "execution_count": 67,
   "metadata": {},
   "outputs": [],
   "source": [
    "whatif_1_2=\"[I(C item.i_item_id,C item.i_item_sk), I(C web_sales.ws_ship_hdemo_sk,C web_sales.ws_web_page_sk), I(C store.s_store_sk,C store.s_closed_date_sk), I(C household_demographics.hd_dep_count), I(C store_sales.ss_item_sk,C store_sales.ss_sold_date_sk), I(C item.i_class_id), I(C store.s_gmt_offset), I(C date_dim.d_year), I(C store.s_closed_date_sk,C store.s_store_sk), I(C promotion.p_promo_sk), I(C customer_address.ca_address_sk), I(C inventory.inv_date_sk)]\"\n",
    "lib_1_2=\"[I(C customer.c_birth_month), I(C store.s_gmt_offset,C store.s_store_sk), I(C time_dim.t_second,C time_dim.t_time_sk), I(C customer_demographics.cd_dep_count), I(C date_dim.d_last_dom,C date_dim.d_moy), I(C catalog_returns.cr_returned_time_sk,C catalog_returns.cr_reversed_charge), I(C household_demographics.hd_dep_count,C household_demographics.hd_income_band_sk), I(C date_dim.d_moy,C date_dim.d_same_day_lq), I(C household_demographics.hd_dep_count), I(C household_demographics.hd_dep_count,C household_demographics.hd_vehicle_count), I(C date_dim.d_same_day_lq,C date_dim.d_last_dom), I(C date_dim.d_last_dom,C date_dim.d_same_day_lq), I(C date_dim.d_same_day_lq,C date_dim.d_moy), I(C time_dim.t_hour,C time_dim.t_time_sk), I(C date_dim.d_same_day_lq), I(C item.i_category_id,C item.i_category), I(C promotion.p_promo_sk), I(C date_dim.d_month_seq,C date_dim.d_moy), I(C inventory.inv_warehouse_sk), I(C household_demographics.hd_dep_count,C household_demographics.hd_demo_sk), I(C household_demographics.hd_income_band_sk), I(C item.i_class_id), I(C store_sales.ss_cdemo_sk,C store_sales.ss_customer_sk), I(C customer_demographics.cd_dep_employed_count,C customer_demographics.cd_dep_count), I(C item.i_class_id,C item.i_category_id), I(C web_returns.wr_reversed_charge)]\"\n",
    "tree_model_1_2=\"[I(C household_demographics.hd_demo_sk,C household_demographics.hd_dep_count), I(C date_dim.d_last_dom,C date_dim.d_month_seq), I(C web_sales.ws_web_page_sk,C web_sales.ws_ship_hdemo_sk), I(C time_dim.t_hour,C time_dim.t_second), I(C catalog_sales.cs_call_center_sk,C catalog_sales.cs_ship_customer_sk), I(C store.s_closed_date_sk,C store.s_store_sk), I(C store_sales.ss_store_sk,C store_sales.ss_sales_price), I(C customer_demographics.cd_demo_sk), I(C item.i_class_id), I(C date_dim.d_same_day_lq), I(C catalog_page.cp_start_date_sk), I(C store_sales.ss_sales_price,C store_sales.ss_item_sk), I(C catalog_returns.cr_returned_time_sk,C catalog_returns.cr_reversed_charge), I(C customer_demographics.cd_dep_count), I(C household_demographics.hd_income_band_sk,C household_demographics.hd_demo_sk), I(C date_dim.d_last_dom), I(C date_dim.d_month_seq,C date_dim.d_date_sk), I(C customer.c_customer_sk,C customer.c_current_addr_sk), I(C customer.c_birth_month), I(C item.i_item_sk,C item.i_item_id), I(C time_dim.t_second,C time_dim.t_time_sk), I(C store_sales.ss_item_sk,C store_sales.ss_net_profit)]\"\n",
    "\n"
   ]
  },
  {
   "cell_type": "code",
   "execution_count": 68,
   "metadata": {},
   "outputs": [],
   "source": [
    "whatif_1_3=\"[I(C customer_demographics.cd_dep_count,C customer_demographics.cd_dep_employed_count), I(C customer.c_customer_sk,C customer.c_current_addr_sk), I(C household_demographics.hd_dep_count), I(C store.s_store_sk,C store.s_closed_date_sk), I(C store_sales.ss_item_sk,C store_sales.ss_sold_date_sk), I(C store.s_closed_date_sk,C store.s_store_sk), I(C date_dim.d_date_sk), I(C inventory.inv_date_sk), I(C catalog_returns.cr_returned_time_sk,C catalog_returns.cr_reversed_charge), I(C promotion.p_promo_sk), I(C item.i_item_sk), I(C date_dim.d_year), I(C item.i_item_id,C item.i_item_sk), I(C time_dim.t_hour), I(C web_page.wp_creation_date_sk), I(C store.s_gmt_offset), I(C catalog_returns.cr_returning_customer_sk), I(C customer_demographics.cd_demo_sk), I(C customer_demographics.cd_dep_employed_count)]\"\n",
    "lib_1_3=\"[I(C date_dim.d_month_seq,C date_dim.d_year), I(C store.s_gmt_offset), I(C inventory.inv_warehouse_sk), I(C household_demographics.hd_dep_count,C household_demographics.hd_demo_sk), I(C catalog_sales.cs_warehouse_sk,C catalog_sales.cs_ship_customer_sk), I(C item.i_manager_id,C item.i_category_id), I(C household_demographics.hd_dep_count,C household_demographics.hd_vehicle_count), I(C household_demographics.hd_dep_count,C household_demographics.hd_income_band_sk), I(C store_sales.ss_net_profit), I(C time_dim.t_hour,C time_dim.t_time_sk), I(C store.s_gmt_offset,C store.s_store_sk), I(C promotion.p_promo_sk), I(C household_demographics.hd_dep_count), I(C customer_demographics.cd_dep_employed_count,C customer_demographics.cd_purchase_estimate)]\"\n",
    "tree_model_1_3=\"[I(C time_dim.t_second), I(C store_sales.ss_net_profit,C store_sales.ss_sales_price), I(C date_dim.d_last_dom), I(C item.i_class_id,C item.i_manager_id), I(C promotion.p_promo_sk), I(C catalog_page.cp_start_date_sk), I(C catalog_returns.cr_returning_customer_sk), I(C date_dim.d_date_sk), I(C date_dim.d_same_day_lq), I(C item.i_manager_id,C item.i_item_sk), I(C time_dim.t_time_sk,C time_dim.t_hour), I(C date_dim.d_year,C date_dim.d_date_sk), I(C customer_demographics.cd_demo_sk,C customer_demographics.cd_dep_count), I(C inventory.inv_warehouse_sk), I(C date_dim.d_month_seq,C date_dim.d_date_sk), I(C customer.c_customer_sk,C customer.c_current_addr_sk), I(C time_dim.t_hour)]\"\n"
   ]
  },
  {
   "cell_type": "code",
   "execution_count": 69,
   "metadata": {},
   "outputs": [],
   "source": [
    "# part2\n",
    "whatif_1_3=\"[I(C store.s_closed_date_sk,C store.s_store_sk), I(C store.s_store_sk), I(C promotion.p_promo_sk), I(C inventory.inv_date_sk), I(C household_demographics.hd_dep_count), I(C date_dim.d_date_sk), I(C store_sales.ss_item_sk,C store_sales.ss_sold_date_sk), I(C customer_address.ca_address_sk), I(C time_dim.t_hour), I(C store.s_gmt_offset), I(C item.i_item_id), I(C web_sales.ws_web_page_sk,C web_sales.ws_ship_hdemo_sk), I(C date_dim.d_year), I(C web_page.wp_creation_date_sk)]\"\n",
    "lib_1_3=\"[I(C store.s_gmt_offset,C store.s_store_sk), I(C web_page.wp_creation_date_sk), I(C promotion.p_promo_sk), I(C store.s_gmt_offset,C store.s_closed_date_sk), I(C customer_demographics.cd_dep_count,C customer_demographics.cd_dep_employed_count), I(C household_demographics.hd_dep_count,C household_demographics.hd_demo_sk), I(C item.i_class_id), I(C time_dim.t_hour,C time_dim.t_time_sk), I(C store.s_store_sk), I(C customer_demographics.cd_dep_employed_count), I(C item.i_class_id,C item.i_manager_id), I(C household_demographics.hd_income_band_sk), I(C household_demographics.hd_dep_count), I(C store_sales.ss_sold_date_sk,C store_sales.ss_promo_sk), I(C store.s_store_sk,C store.s_zip), I(C catalog_returns.cr_returning_customer_sk,C catalog_returns.cr_returned_time_sk), I(C date_dim.d_year,C date_dim.d_date_sk), I(C customer.c_birth_month), I(C inventory.inv_warehouse_sk), I(C household_demographics.hd_dep_count,C household_demographics.hd_income_band_sk), I(C item.i_class_id,C item.i_category_id), I(C item.i_category_id,C item.i_category), I(C date_dim.d_same_day_lq), I(C web_returns.wr_reversed_charge), I(C store.s_store_sk,C store.s_gmt_offset), I(C time_dim.t_second,C time_dim.t_time_sk), I(C customer_demographics.cd_dep_count), I(C household_demographics.hd_dep_count,C household_demographics.hd_vehicle_count)]\"\n",
    "tree_model_1_3=\"[I(C store_sales.ss_customer_sk,C store_sales.ss_sales_price), I(C store_sales.ss_store_sk,C store_sales.ss_cdemo_sk), I(C store_sales.ss_sales_price), I(C time_dim.t_time_sk,C time_dim.t_hour), I(C date_dim.d_date_sk), I(C item.i_class_id), I(C promotion.p_promo_sk), I(C date_dim.d_year,C date_dim.d_date_sk), I(C date_dim.d_moy,C date_dim.d_year), I(C date_dim.d_last_dom), I(C catalog_page.cp_catalog_number), I(C catalog_page.cp_start_date_sk), I(C item.i_item_id,C item.i_item_sk), I(C date_dim.d_month_seq,C date_dim.d_date_sk), I(C date_dim.d_date_sk,C date_dim.d_year), I(C time_dim.t_second), I(C store_sales.ss_item_sk,C store_sales.ss_net_profit), I(C time_dim.t_hour), I(C catalog_sales.cs_ship_customer_sk)]\"\n",
    "\n",
    "# part3\n",
    "\n",
    "whatif_1_3=\"[I(C store.s_gmt_offset), I(C customer.c_customer_sk,C customer.c_current_addr_sk), I(C household_demographics.hd_income_band_sk), I(C customer_demographics.cd_demo_sk), I(C promotion.p_promo_sk), I(C inventory.inv_date_sk), I(C catalog_page.cp_catalog_number), I(C time_dim.t_hour), I(C item.i_item_sk), I(C customer_address.ca_address_sk), I(C household_demographics.hd_dep_count), I(C catalog_returns.cr_returned_time_sk,C catalog_returns.cr_reversed_charge), I(C customer_demographics.cd_dep_employed_count), I(C date_dim.d_date_sk,C date_dim.d_year), I(C store_sales.ss_net_profit,C store_sales.ss_promo_sk), I(C catalog_returns.cr_returning_customer_sk), I(C household_demographics.hd_demo_sk), I(C date_dim.d_year), I(C store.s_store_sk,C store.s_closed_date_sk), I(C date_dim.d_month_seq), I(C household_demographics.hd_dep_count,C household_demographics.hd_vehicle_count)]\"\n",
    "tree_model_1_3=\"[I(C date_dim.d_same_day_lq,C date_dim.d_month_seq), I(C customer_demographics.cd_dep_count), I(C catalog_returns.cr_returning_customer_sk,C catalog_returns.cr_returned_time_sk), I(C customer_address.ca_address_sk), I(C catalog_sales.cs_call_center_sk,C catalog_sales.cs_ship_customer_sk), I(C store_sales.ss_store_sk,C store_sales.ss_customer_sk), I(C store_sales.ss_sales_price,C store_sales.ss_sold_date_sk), I(C date_dim.d_year,C date_dim.d_last_dom), I(C web_sales.ws_web_page_sk,C web_sales.ws_ship_hdemo_sk), I(C time_dim.t_hour,C time_dim.t_time_sk), I(C date_dim.d_last_dom), I(C customer.c_customer_sk,C customer.c_current_addr_sk), I(C catalog_returns.cr_returned_time_sk,C catalog_returns.cr_reversed_charge), I(C store_sales.ss_item_sk,C store_sales.ss_sold_date_sk), I(C item.i_manager_id,C item.i_class_id), I(C date_dim.d_month_seq,C date_dim.d_date_sk), I(C item.i_item_id,C item.i_manager_id), I(C customer.c_birth_month,C customer.c_current_addr_sk), I(C item.i_class_id)]\""
   ]
  },
  {
   "cell_type": "code",
   "execution_count": 70,
   "metadata": {},
   "outputs": [
    {
     "name": "stdout",
     "output_type": "stream",
     "text": [
      "CREATEING INDEX ON household_demographics (hd_dep_count)\n",
      "CREATEING INDEX ON date_dim (d_same_day_lq)\n",
      "CREATEING INDEX ON date_dim (d_year)\n",
      "CREATEING INDEX ON date_dim (d_last_dom)\n",
      "CREATEING INDEX ON customer (c_current_addr_sk,c_customer_sk)\n",
      "CREATEING INDEX ON time_dim (t_hour)\n",
      "CREATEING INDEX ON date_dim (d_month_seq)\n",
      "CREATEING INDEX ON inventory (inv_date_sk)\n",
      "CREATEING INDEX ON date_dim (d_date_sk,d_year)\n",
      "CREATEING INDEX ON store (s_store_sk)\n",
      "CREATEING INDEX ON customer_demographics (cd_demo_sk)\n",
      "CREATEING INDEX ON catalog_returns (cr_returned_time_sk,cr_reversed_charge)\n",
      "CREATEING INDEX ON item (i_manager_id)\n",
      "CREATEING INDEX ON catalog_page (cp_catalog_number)\n",
      "CREATEING INDEX ON item (i_item_sk)\n",
      "CREATEING INDEX ON household_demographics (hd_income_band_sk)\n",
      "CREATEING INDEX ON household_demographics (hd_demo_sk)\n",
      "CREATEING INDEX ON promotion (p_promo_sk)\n",
      "CREATEING INDEX ON household_demographics (hd_dep_count,hd_vehicle_count)\n",
      "CREATEING INDEX ON customer (c_customer_sk,c_current_addr_sk)\n",
      "CREATEING INDEX ON catalog_returns (cr_returning_customer_sk,cr_returned_time_sk)\n",
      "CREATEING INDEX ON customer_address (ca_address_sk)\n",
      "CREATEING INDEX ON store (s_gmt_offset)\n",
      "CREATEING INDEX ON store_sales (ss_customer_sk,ss_sales_price)\n",
      "Query 1: executed in 2.1604 seconds\n",
      "Query 2: executed in 4.1625 seconds\n",
      "Query 3: executed in 2.2968 seconds\n",
      "Query 4: executed in 5.4689 seconds\n",
      "Query 5: executed in 1.7476 seconds\n",
      "Query 6: executed in 1.2071 seconds\n",
      "Query 7: executed in 1.9331 seconds\n",
      "Query 8: executed in 2.8870 seconds\n",
      "Query 9: executed in 3.3887 seconds\n",
      "Query 10: executed in 3.0070 seconds\n",
      "Query 11: executed in 4.5351 seconds\n",
      "Query 12: executed in 15.9122 seconds\n",
      "Query 13: executed in 1.7663 seconds\n",
      "Query 14: executed in 13.2210 seconds\n",
      "Query 15: executed in 3.6352 seconds\n",
      "Query 16: executed in 4.6901 seconds\n",
      "Query 17: executed in 0.1283 seconds\n",
      "Query 18: executed in 2.2315 seconds\n",
      "Query 19: executed in 3.2100 seconds\n",
      "Query 20: executed in 0.9878 seconds\n",
      "Query 21: executed in 7.9996 seconds\n",
      "Query 22: executed in 0.2174 seconds\n",
      "Query 23: executed in 3.4369 seconds\n",
      "Query 24: executed in 3.9776 seconds\n",
      "Query 25: executed in 2.8896 seconds\n",
      "Query 26: executed in 1.1185 seconds\n",
      "Query 27: executed in 3.9995 seconds\n",
      "Query 28: executed in 0.0230 seconds\n",
      "Query 29: executed in 2.5813 seconds\n",
      "Query 30: executed in 6.6917 seconds\n",
      "Query 31: executed in 1.8865 seconds\n",
      "Query 32: executed in 7.4491 seconds\n",
      "Query 33: executed in 7.3189 seconds\n",
      "Query 34: executed in 3.3411 seconds\n",
      "Query 35: executed in 4.0244 seconds\n",
      "Query 36: executed in 2.3879 seconds\n",
      "Query 37: executed in 3.5029 seconds\n",
      "Query 38: executed in 3.6971 seconds\n",
      "Query 39: executed in 2.6718 seconds\n",
      "Query 40: executed in 2.3978 seconds\n",
      "Query 41: executed in 4.5291 seconds\n",
      "Query 42: executed in 3.1431 seconds\n",
      "Query 43: executed in 3.7041 seconds\n",
      "Query 44: executed in 9.1377 seconds\n",
      "Query 45: executed in 5.8777 seconds\n",
      "Query 46: executed in 3.6963 seconds\n",
      "Query 47: executed in 13.5353 seconds\n",
      "Query 48: executed in 11.9747 seconds\n",
      "Query 49: executed in 14.9643 seconds\n",
      "Query 50: executed in 10.2321 seconds\n",
      "Query 51: executed in 13.4436 seconds\n",
      "Query 52: executed in 10.6628 seconds\n",
      "Query 53: executed in 13.0052 seconds\n",
      "Query 54: executed in 14.1838 seconds\n",
      "Query 55: executed in 16.5259 seconds\n",
      "Query 56: executed in 17.1733 seconds\n",
      "Query 57: executed in 10.8513 seconds\n",
      "Query 58: executed in 9.4446 seconds\n",
      "Query 59: executed in 18.6615 seconds\n",
      "Query 60: executed in 18.7944 seconds\n",
      "Total execution time for workload: 373.7296 s\n",
      "DROPING INDEX IF EXISTS I(C household_demographics.hd_dep_count)\n",
      "DROPING INDEX IF EXISTS I(C date_dim.d_same_day_lq)\n",
      "DROPING INDEX IF EXISTS I(C date_dim.d_year)\n",
      "DROPING INDEX IF EXISTS I(C date_dim.d_last_dom)\n",
      "DROPING INDEX IF EXISTS I(C customer.c_current_addr_sk,C customer.c_customer_sk)\n",
      "DROPING INDEX IF EXISTS I(C time_dim.t_hour)\n",
      "DROPING INDEX IF EXISTS I(C date_dim.d_month_seq)\n",
      "DROPING INDEX IF EXISTS I(C inventory.inv_date_sk)\n",
      "DROPING INDEX IF EXISTS I(C date_dim.d_date_sk,C date_dim.d_year)\n",
      "DROPING INDEX IF EXISTS I(C store.s_store_sk)\n",
      "DROPING INDEX IF EXISTS I(C customer_demographics.cd_demo_sk)\n",
      "DROPING INDEX IF EXISTS I(C catalog_returns.cr_returned_time_sk,C catalog_returns.cr_reversed_charge)\n",
      "DROPING INDEX IF EXISTS I(C item.i_manager_id)\n",
      "DROPING INDEX IF EXISTS I(C catalog_page.cp_catalog_number)\n",
      "DROPING INDEX IF EXISTS I(C item.i_item_sk)\n",
      "DROPING INDEX IF EXISTS I(C household_demographics.hd_income_band_sk)\n",
      "DROPING INDEX IF EXISTS I(C household_demographics.hd_demo_sk)\n",
      "DROPING INDEX IF EXISTS I(C promotion.p_promo_sk)\n",
      "DROPING INDEX IF EXISTS I(C household_demographics.hd_dep_count,C household_demographics.hd_vehicle_count)\n",
      "DROPING INDEX IF EXISTS I(C customer.c_customer_sk,C customer.c_current_addr_sk)\n",
      "DROPING INDEX IF EXISTS I(C catalog_returns.cr_returning_customer_sk,C catalog_returns.cr_returned_time_sk)\n",
      "DROPING INDEX IF EXISTS I(C customer_address.ca_address_sk)\n",
      "DROPING INDEX IF EXISTS I(C store.s_gmt_offset)\n",
      "DROPING INDEX IF EXISTS I(C store_sales.ss_customer_sk,C store_sales.ss_sales_price)\n"
     ]
    }
   ],
   "source": [
    "import psycopg2\n",
    "import re\n",
    "import json\n",
    "import time\n",
    "\n",
    "class RealIndex:\n",
    "    def __init__(self, index_config):\n",
    "        self.index_config = index_config.strip()\n",
    "    \n",
    "    def index_idx(self):\n",
    "        match = re.match(r'I\\(C\\s+(.*?)\\)', self.index_config)\n",
    "        if match:\n",
    "            column_names = match.group(1).split(',')\n",
    "            cleaned_column_names = [name.split('.')[-1].strip() for name in column_names]\n",
    "            columns = \"_\".join(self._column_names())\n",
    "            return f\"{self.table()}_{columns}_idx\"\n",
    "        else:\n",
    "            print('errot in index_idx')\n",
    "            return None\n",
    "        \n",
    "    def table(self):\n",
    "        start = self.index_config.find('(') + 1\n",
    "        end = self.index_config.find('.')\n",
    "        if start != -1 and end != -1:\n",
    "            return self.index_config[start:end].strip().split()[-1]\n",
    "        else:\n",
    "            return self.index_config.strip()\n",
    "\n",
    "    def joined_column_names(self):\n",
    "        match = re.match(r'I\\(C\\s+(.*?)\\)', self.index_config)\n",
    "        if match:\n",
    "            column_names = match.group(1).split(',')\n",
    "            cleaned_column_names = [name.split('.')[-1].strip() for name in column_names]\n",
    "            return ','.join(cleaned_column_names)\n",
    "        else:\n",
    "            return None\n",
    "        \n",
    "    def joined_column_drop_names(self):\n",
    "        match = re.match(r'I\\(C\\s+(.*?)\\)', self.index_config)\n",
    "        if match:\n",
    "            column_names = match.group(1).split(',')\n",
    "            cleaned_column_names = [name.split('.')[-1].strip() for name in column_names]\n",
    "            return '_'.join(cleaned_column_names)\n",
    "        else:\n",
    "            return None\n",
    "\n",
    "class QueryExecutor:\n",
    "    def __init__(self, dbname, user, password, host, port):\n",
    "        self.conn = psycopg2.connect(\n",
    "            dbname=dbname,\n",
    "            user=user,\n",
    "            password=password,\n",
    "            host=host,\n",
    "            port=port\n",
    "        )\n",
    "        self.cursor = self.conn.cursor()\n",
    "        \n",
    "    def exec_query(self, query):\n",
    "        query_text = query  # 直接使用传入的查询\n",
    "        start_time = time.time()\n",
    "        self.cursor.execute(query_text)\n",
    "        execution_time = time.time() - start_time\n",
    "        return execution_time\n",
    "\n",
    "    def exec_fetch(self, query):\n",
    "        with self.conn.cursor() as cur:\n",
    "            cur.execute(query)\n",
    "            # 如果是 DDL 语句（如 CREATE INDEX），则不返回结果\n",
    "            if query.startswith(\"CREATE\") or query.startswith(\"DROP\"):\n",
    "                return\n",
    "            return cur.fetchall()\n",
    "\n",
    "    def create_index(self, index):\n",
    "        print(f\"CREATEING INDEX ON {index.table()} ({index.joined_column_names()})\")\n",
    "        create_statement = f\"CREATE INDEX ON {index.table()} ({index.joined_column_names()})\"\n",
    "        self.exec_fetch(create_statement)\n",
    "\n",
    "    def drop_index(self, index):\n",
    "        print(f\"DROPING INDEX IF EXISTS {index.index_config}\")\n",
    "        drop_statement = f\"DROP INDEX IF EXISTS \"+f\"{index.table()}_{index.joined_column_drop_names()}_idx\"\n",
    "        self.exec_fetch(drop_statement)\n",
    "        \n",
    "    def execute_workload_and_measure_time(self, query_list):\n",
    "        total_execution_time = 0\n",
    "        exe_time_list = []\n",
    "        for index, query in enumerate(query_list, start=1):\n",
    "            execution_time = self.exec_query(query)\n",
    "            total_execution_time += execution_time\n",
    "            exe_time_list.append(execution_time)\n",
    "            print(f\"Query {index}: executed in {execution_time:.4f} seconds\")\n",
    "        return total_execution_time,exe_time_list\n",
    "\n",
    "    def extract_execution_time(self, explain_result):\n",
    "        # 解析 EXPLAIN ANALYZE 的返回结果，提取执行时间\n",
    "        execution_time = 0\n",
    "        for line in explain_result:\n",
    "            plan = json.loads(line[0])\n",
    "            execution_time = plan['Total Time']  # 假设提取总时间\n",
    "        return execution_time\n",
    "\n",
    "    def close(self):\n",
    "        self.conn.close()\n",
    "\n",
    "def parse_index_configs(index_configs):\n",
    "    indexes = re.findall(r'I\\(C\\s*[^()]*\\)', index_configs)\n",
    "    parsed_indexes = []\n",
    "    for index in indexes:\n",
    "        parsed_indexes.append(RealIndex(index.strip()))\n",
    "    return parsed_indexes\n",
    "\n",
    "# 示例：使用提供的索引配置\n",
    "test_index=\"[I(C household_demographics.hd_dep_count), I(C date_dim.d_same_day_lq), I(C date_dim.d_year), I(C date_dim.d_last_dom), I(C customer.c_current_addr_sk,C customer.c_customer_sk), I(C time_dim.t_hour), I(C date_dim.d_month_seq), I(C inventory.inv_date_sk), I(C date_dim.d_date_sk,C date_dim.d_year), I(C store.s_store_sk), I(C customer_demographics.cd_demo_sk), I(C catalog_returns.cr_returned_time_sk,C catalog_returns.cr_reversed_charge), I(C item.i_manager_id), I(C catalog_page.cp_catalog_number), I(C item.i_item_sk), I(C household_demographics.hd_income_band_sk), I(C household_demographics.hd_demo_sk), I(C promotion.p_promo_sk), I(C household_demographics.hd_dep_count,C household_demographics.hd_vehicle_count), I(C customer.c_customer_sk,C customer.c_current_addr_sk), I(C catalog_returns.cr_returning_customer_sk,C catalog_returns.cr_returned_time_sk), I(C customer_address.ca_address_sk), I(C store.s_gmt_offset), I(C store_sales.ss_customer_sk,C store_sales.ss_sales_price)]\"\n",
    "parsed_indexes = parse_index_configs(test_index)\n",
    "\n",
    "# 数据库连接信息\n",
    "db_params = {\n",
    "    'dbname': 'indexselection_tpcds___10',\n",
    "    'user': 'postgres',\n",
    "    'password': 'password',\n",
    "    'host': 'localhost',\n",
    "    'port': 5432\n",
    "}\n",
    "\n",
    "\n",
    "# 测试工作负载\n",
    "query_list = queries_list.copy()\n",
    "# 执行查询并测量时间\n",
    "executor = QueryExecutor(**db_params)\n",
    "\n",
    "# 创建索引\n",
    "for idx in parsed_indexes:\n",
    "    executor.create_index(idx)\n",
    "\n",
    "# 执行工作负载\n",
    "total_execution_time ,exe_time_list = executor.execute_workload_and_measure_time(query_list)\n",
    "print(f\"Total execution time for workload: {total_execution_time:.4f} s\")\n",
    "\n",
    "# 清理：删除索引\n",
    "for idx in parsed_indexes:\n",
    "    executor.drop_index(idx)\n",
    "\n",
    "executor.close()"
   ]
  },
  {
   "cell_type": "code",
   "execution_count": 71,
   "metadata": {},
   "outputs": [],
   "source": [
    "whatif_3_1_exe_time=281.6558\n",
    "lib_3_1_exe_time=224.7035\n",
    "tree_model_3_1_exe_time=229.3629"
   ]
  },
  {
   "cell_type": "code",
   "execution_count": 72,
   "metadata": {},
   "outputs": [],
   "source": [
    "whatif_2_1_exe_time=223.9137\n",
    "lib_2_1_exe_time=213.4278\n",
    "tree_model_2_1_exe_time=203.3863"
   ]
  },
  {
   "cell_type": "code",
   "execution_count": 73,
   "metadata": {},
   "outputs": [],
   "source": [
    "whatif_1_1_exe_time=232.4375\n",
    "lib_1_1_exe_time=232.6347\n",
    "tree_model_1_1_exe_time=214.4855"
   ]
  },
  {
   "cell_type": "code",
   "execution_count": 74,
   "metadata": {},
   "outputs": [],
   "source": [
    "whatif_1_2_exe_time=213.3615\n",
    "lib_1_2_exe_time=232.8889\n",
    "tree_model_1_2_exe_time=234.8572"
   ]
  },
  {
   "cell_type": "code",
   "execution_count": null,
   "metadata": {},
   "outputs": [],
   "source": [
    "whatif_1_3_exe_time=218.8563\n",
    "lib_1_3_exe_time=229.8452\n",
    "tree_model_1_3_exe_time=234.0687\n",
    "\n",
    "# part2\n",
    "whatif_1_3_exe_time=282.7637\n",
    "# lib_1_3_exe_time=\n",
    "# tree_model_1_3_exe_time=\n",
    "\n",
    "# part3\n",
    "whatif_1_3_exe_time=373\n",
    "tree_model_1_3_exe_time=362.3442"
   ]
  },
  {
   "cell_type": "code",
   "execution_count": 76,
   "metadata": {},
   "outputs": [],
   "source": [
    "whatif_3_1_exe_time_list=[0.2083, 8.7431, 0.2615, 8.1844, 0.1529, 0.1447, 0.5098, 2.0353, 2.7198, 1.5906,7.4172, 22.7709, 3.1971, 21.5845, 5.0379, 9.9905, 11.0968, 8.7810, 1.1434, 5.6537,0.4723, 0.1033, 7.1650, 0.1780, 0.4402, 0.1191, 5.9083, 7.1551, 13.0723, 0.5507,6.0890, 5.3522, 0.1875, 0.9451, 8.3251, 1.2797, 0.0845, 7.9651, 9.9493, 6.2342,0.6062, 5.2247, 0.0950, 16.5734, 1.8386, 4.9932, 3.1785, 2.3689, 3.5116, 0.9011,9.2577, 2.8174, 3.7754, 4.3200, 3.2059, 2.4716, 4.0719, 0.4084, 2.5765, 6.6604]\n",
    "lib_3_1_exe_time_list=[1.9480786323547363, 3.2167673110961914, 3.61669659614563, 5.026872873306274, 0.13683080673217773, 0.13047385215759277, 1.8101575374603271, 3.8240604400634766, 2.5153157711029053, 1.7152059078216553, 5.661220073699951, 20.40838122367859, 2.4351508617401123, 17.27004337310791, 5.318776369094849, 2.142383337020874, 1.3619797229766846, 2.0449588298797607, 2.4174001216888428, 4.561081171035767, 1.329174518585205, 2.3921000957489014, 1.4998738765716553, 0.19253087043762207, 1.141181230545044, 0.08209896087646484, 3.6476118564605713, 2.096505880355835, 12.112433910369873, 1.181809663772583, 4.097203731536865, 3.7153520584106445, 0.18921637535095215, 5.022032260894775, 3.621795892715454, 1.482327938079834, 2.3013200759887695, 2.0706567764282227, 5.057594537734985, 4.508212327957153, 1.592623233795166, 4.246281623840332, 2.5269787311553955, 16.089911937713623, 3.20237398147583, 3.9624288082122803, 2.9989328384399414, 2.243830442428589, 3.495199203491211, 0.868034839630127, 8.959255456924438, 2.661280632019043, 3.6342594623565674, 4.479480504989624, 3.2446744441986084, 1.596724510192871, 4.08367919921875, 0.3962857723236084, 2.6312661170959473, 6.4871110916137695]\n",
    "tree_model_3_1_exe_time_list=[0.2728397846221924, 5.363959074020386, 0.19064879417419434, 6.236974000930786, 2.0410566329956055, 1.3154771327972412, 0.43047046661376953, 1.323831558227539, 2.4446451663970947, 1.3832082748413086, 5.394804000854492, 17.757925033569336, 2.0401012897491455, 15.338706970214844, 4.948947906494141, 4.504130601882935, 1.9238412380218506, 4.376925706863403, 1.2705249786376953, 5.020313739776611, 0.40207982063293457, 0.1037137508392334, 2.0881497859954834, 0.3937499523162842, 0.3909273147583008, 1.3247756958007812, 5.781193494796753, 4.238788843154907, 12.58911395072937, 2.034350633621216, 5.2354795932769775, 4.454630374908447, 0.26790571212768555, 2.4329493045806885, 7.000645875930786, 1.31105375289917, 0.09218406677246094, 4.296267509460449, 6.975487232208252, 4.861692428588867, 2.1128220558166504, 5.083277940750122, 0.09543132781982422, 16.97038769721985, 2.4255387783050537, 4.542839765548706, 2.9512510299682617, 2.186807870864868, 3.443638563156128, 0.9035208225250244, 8.43746829032898, 2.694868564605713, 3.650761365890503, 4.348774433135986, 3.162949323654175, 3.118253231048584, 4.099777460098267, 0.41887927055358887, 2.5895369052886963, 6.2716734409332275]"
   ]
  },
  {
   "cell_type": "code",
   "execution_count": 77,
   "metadata": {},
   "outputs": [],
   "source": [
    "whatif_2_1_exe_time_list=[0.051314353942871094, 6.8390953540802, 0.1467878818511963, 5.74111533164978, 1.8996121883392334, 1.256371021270752, 0.3558022975921631, 0.1970350742340088, 0.28833794593811035, 0.18692922592163086, 4.666242599487305, 16.42703151702881, 1.9320504665374756, 14.24349069595337, 2.75412654876709, 6.743629455566406, 6.96252179145813, 6.6427528858184814, 0.18560194969177246, 2.5599427223205566, 0.3597888946533203, 0.09704303741455078, 6.917159795761108, 0.1301555633544922, 0.3692629337310791, 1.2594969272613525, 5.690906763076782, 6.514196872711182, 12.185625076293945, 1.6642825603485107, 4.553903818130493, 3.572636127471924, 0.11735892295837402, 0.9933373928070068, 6.833298683166504, 0.19077730178833008, 0.08861279487609863, 6.496597051620483, 6.2406933307647705, 2.595036506652832, 4.790090799331665, 2.9708633422851562, 2.301499843597412, 3.528712749481201, 0.9009408950805664, 8.382334232330322, 3.0262207984924316, 3.607632637023926, 4.516743898391724, 2.8856735229492188, 2.446014642715454, 4.171161413192749, 0.3860664367675781, 2.610234260559082, 6.332618713378906, 2.0218188762664795, 7.873000621795654, 7.039335489273071, 3.191438913345337, 3.9813601970672607]\n",
    "lib_2_1_exe_time_list=[2.129271984100342, 2.053177833557129, 2.605801582336426, 5.545659780502319, 0.08559536933898926, 0.07771778106689453, 1.1783266067504883, 2.1869773864746094, 3.2799456119537354, 2.180305004119873, 3.9524524211883545, 15.955350399017334, 1.8910109996795654, 14.369087934494019, 4.200207710266113, 1.9892761707305908, 3.4036858081817627, 2.0158207416534424, 2.181398391723633, 4.177167892456055, 1.2002742290496826, 2.3299784660339355, 3.4018146991729736, 0.17392516136169434, 1.2093091011047363, 0.08368992805480957, 5.53388786315918, 2.0137972831726074, 11.635672092437744, 1.0326359272003174, 3.924607992172241, 3.7081868648529053, 0.17336726188659668, 8.94213342666626, 3.073366165161133, 2.1747453212738037, 2.31512713432312, 2.032550811767578, 5.10787034034729, 4.115497350692749, 4.025415897369385, 2.8501768112182617, 2.239205837249756, 3.322211980819702, 0.8339240550994873, 8.143269300460815, 2.6078097820281982, 3.55777645111084, 4.0378053188323975, 3.161294937133789, 3.3903443813323975, 3.8573079109191895, 0.3798336982727051, 2.5229909420013428, 6.215742588043213, 1.9669339656829834, 7.6650238037109375, 6.946278095245361, 2.181486129760742, 3.8823401927948]\n",
    "tree_model_2_1_exe_time_list=[0.22692656517028809, 1.701537847518921, 0.14066243171691895, 6.331372022628784, 1.9499592781066895, 1.2107317447662354, 2.069061517715454, 1.1788840293884277, 2.133894443511963, 1.1636579036712646, 4.555123567581177, 16.837830543518066, 1.878169059753418, 13.498265981674194, 4.1636803150177, 1.4829585552215576, 1.2761197090148926, 1.4294958114624023, 2.931480884552002, 4.0452351570129395, 2.124084234237671, 0.08995604515075684, 1.4363255500793457, 0.5190322399139404, 2.0744032859802246, 1.2915153503417969, 6.233054161071777, 1.4563722610473633, 11.593536376953125, 2.241807699203491, 3.9532482624053955, 3.8561172485351562, 0.381274938583374, 0.7347877025604248, 2.875080108642578, 1.195570468902588, 0.07924580574035645, 1.4294681549072266, 7.126842975616455, 4.069677114486694, 4.761735916137695, 3.141451358795166, 2.193291425704956, 3.2974801063537598, 4.178819417953491, 8.31851840019226, 2.8005001544952393, 3.6696701049804688, 4.2627482414245605, 2.9073405265808105, 0.7144699096679688, 4.118864297866821, 0.38596630096435547, 2.5388503074645996, 6.096848964691162, 2.12650728225708, 8.026981353759766, 7.165309906005859, 3.2578935623168945, 4.456631422042847]\n"
   ]
  },
  {
   "cell_type": "code",
   "execution_count": 78,
   "metadata": {},
   "outputs": [],
   "source": [
    "whatif_1_1_exe_time_list=[0.05434536933898926, 6.018667936325073, 0.15067625045776367, 5.7518696784973145, 0.10676407814025879, 0.09600353240966797, 0.045014142990112305, 0.18919038772583008, 0.2859950065612793, 0.1944108009338379, 6.4457972049713135, 16.38208293914795, 1.9241738319396973, 13.9114511013031, 3.8747308254241943, 6.11624002456665, 6.975537061691284, 6.140265941619873, 0.1988232135772705, 3.871047019958496, 0.04422330856323242, 0.09058833122253418, 6.9088969230651855, 0.35095643997192383, 0.044921875, 0.07804131507873535, 5.7432942390441895, 6.157817602157593, 12.478005647659302, 1.7296040058135986, 4.899028062820435, 3.276150941848755, 2.2265615463256836, 3.577669620513916, 0.8875176906585693, 8.219688177108765, 2.646064043045044, 3.6315953731536865, 4.49767279624939, 2.8967297077178955, 2.4639899730682373, 3.9614646434783936, 0.3795435428619385, 2.548307418823242, 6.385406970977783, 2.0922913551330566, 8.593769788742065, 7.044705152511597, 2.317786455154419, 3.895596742630005, 2.275797128677368, 3.5123372077941895, 3.8549842834472656, 2.545741558074951, 2.450167417526245, 6.960813045501709, 2.841108798980713, 3.772614002227783, 9.04793119430542, 6.375064134597778]\n",
    "lib_1_1_exe_time_list=[2.445620536804199, 2.982658624649048, 2.375347137451172, 5.410123825073242, 1.7824912071228027, 1.2332496643066406, 1.2122654914855957, 2.449399709701538, 3.1572365760803223, 2.339658498764038, 4.032103776931763, 17.099547624588013, 1.8853988647460938, 14.155681371688843, 4.134830474853516, 2.135099411010742, 3.635831832885742, 2.0544233322143555, 2.3394219875335693, 4.165690660476685, 1.2384939193725586, 2.343841075897217, 3.520551919937134, 0.18181753158569336, 1.3203880786895752, 1.2473886013031006, 5.50991153717041, 2.0035269260406494, 12.240820407867432, 1.856090784072876, 4.80950140953064, 2.8909788131713867, 2.19880747795105, 3.45257830619812, 0.8695199489593506, 8.099374771118164, 2.6723363399505615, 3.6644582748413086, 4.097442388534546, 3.076836109161377, 2.8937675952911377, 3.9213171005249023, 0.2778775691986084, 2.4845001697540283, 6.80541467666626, 2.0383081436157227, 8.084541082382202, 7.158316373825073, 3.2148265838623047, 3.978806257247925, 2.2993688583374023, 3.5549092292785645, 3.8425731658935547, 2.4785518646240234, 2.3359413146972656, 6.786949396133423, 2.909207820892334, 3.6376850605010986, 9.549798250198364, 6.061293601989746]\n",
    "tree_model_1_1_exe_time_list=[0.21034646034240723, 2.4454987049102783, 0.14610075950622559, 5.866888523101807, 1.812077283859253, 1.225379228591919, 0.042760372161865234, 1.2308685779571533, 1.618595838546753, 1.1950743198394775, 4.658506393432617, 16.24982213973999, 1.7797212600708008, 13.36985445022583, 4.571724891662598, 1.7243647575378418, 3.433786153793335, 1.4383440017700195, 3.128152847290039, 4.589273929595947, 0.04267621040344238, 0.08960199356079102, 3.324976682662964, 0.535369873046875, 0.04439520835876465, 1.2298402786254883, 5.8015053272247314, 1.4439232349395752, 11.713509559631348, 1.8459727764129639, 4.715661287307739, 2.863922357559204, 2.14341402053833, 3.39100980758667, 0.8236005306243896, 8.58315896987915, 2.5945253372192383, 3.5424392223358154, 4.174630641937256, 2.8777406215667725, 2.2824199199676514, 3.9596898555755615, 0.39293479919433594, 2.5382182598114014, 6.050292730331421, 2.0465896129608154, 8.049173831939697, 7.1600823402404785, 3.115941286087036, 3.9158682823181152, 2.223111629486084, 3.8078150749206543, 4.145970106124878, 2.508033037185669, 2.4242804050445557, 6.7394633293151855, 2.8178882598876953, 3.638270378112793, 8.310442924499512, 5.840036869049072]\n",
    "\n"
   ]
  },
  {
   "cell_type": "code",
   "execution_count": 79,
   "metadata": {},
   "outputs": [],
   "source": [
    "whatif_1_2_exe_time_list=[0.05833601951599121, 3.339064598083496, 0.2214827537536621, 5.321648836135864, 0.14748144149780273, 0.13181281089782715, 1.0165972709655762, 0.21394085884094238, 0.33431196212768555, 0.18982434272766113, 3.777397871017456, 16.36309576034546, 1.9490783214569092, 13.566666603088379, 4.001311302185059, 2.2168774604797363, 3.2882211208343506, 2.2550406455993652, 0.18792462348937988, 4.016912460327148, 4.9036829471588135, 0.1264972686767578, 2.1424214839935303, 3.2756855487823486, 0.9882035255432129, 8.083824396133423, 0.2537081241607666, 3.819512128829956, 4.32071852684021, 3.0089333057403564, 3.0163767337799072, 3.927031993865967, 0.02309441566467285, 2.538395643234253, 6.11781120300293, 2.1683566570281982, 7.984485149383545, 6.9437782764434814, 3.218337059020996, 3.9187493324279785, 2.2324037551879883, 3.4199817180633545, 4.0013110637664795, 2.8322935104370117, 2.4358718395233154, 4.537157297134399, 2.865614414215088, 3.5717222690582275, 8.433587789535522, 5.796842813491821, 3.503361701965332, 3.0414764881134033, 3.656036853790283, 2.281057596206665, 2.646479606628418, 3.32593035697937, 4.630709648132324, 6.4194464683532715, 4.551303386688232, 5.80228853225708]\n",
    "lib_1_2_exe_time_list=[2.529951333999634, 2.044943332672119, 2.4088025093078613, 5.256438732147217, 1.3611633777618408, 1.3431930541992188, 1.707373857498169, 2.3120391368865967, 3.0999460220336914, 2.364964246749878, 3.9566736221313477, 15.944786071777344, 1.9700791835784912, 14.045349597930908, 4.454971551895142, 2.0580756664276123, 3.5772244930267334, 1.985550880432129, 2.2894575595855713, 4.116140127182007, 4.745667219161987, 2.81620717048645, 2.172555685043335, 3.3704833984375, 0.8951301574707031, 8.202547788619995, 2.6096954345703125, 3.5529139041900635, 4.359666585922241, 3.0383481979370117, 2.775871515274048, 4.537750720977783, 0.27387428283691406, 2.492216110229492, 6.197405815124512, 1.976301670074463, 7.848006010055542, 6.871412515640259, 3.1508710384368896, 3.8979480266571045, 2.2177066802978516, 3.589146137237549, 4.033604860305786, 2.4438400268554688, 2.388796806335449, 6.960658311843872, 2.8946967124938965, 3.9903523921966553, 8.355842351913452, 5.8294901847839355, 3.399118423461914, 3.037261962890625, 3.6151208877563477, 0.45728278160095215, 2.664788246154785, 1.420379638671875, 4.516254425048828, 6.52426552772522, 4.207655906677246, 5.730605840682983]\n",
    "tree_model_1_2_exe_time_list=[0.2105116844177246, 3.2712504863739014, 0.14790558815002441, 6.193570375442505, 0.08207559585571289, 0.08190584182739258, 0.9952354431152344, 1.2034697532653809, 2.053920269012451, 1.18519926071167, 4.820054054260254, 16.292551517486572, 1.8945286273956299, 13.99123215675354, 4.636453151702881, 3.280275344848633, 3.5872914791107178, 3.186645984649658, 1.1224963665008545, 4.50824761390686, 4.773773431777954, 2.9289286136627197, 2.1544346809387207, 3.29854679107666, 3.8012304306030273, 8.103088855743408, 2.634080410003662, 3.6214091777801514, 4.145514011383057, 3.422905206680298, 4.743834972381592, 3.8862743377685547, 0.37762975692749023, 2.5175740718841553, 6.1630637645721436, 1.9879677295684814, 7.920689821243286, 6.897143363952637, 3.095019817352295, 3.9836690425872803, 2.237156391143799, 3.4351720809936523, 3.8525190353393555, 2.508800506591797, 2.3710479736328125, 7.22254204750061, 2.8393142223358154, 3.62282133102417, 8.387266397476196, 5.7777793407440186, 3.517014265060425, 3.0435850620269775, 3.651329278945923, 2.1603941917419434, 2.6742136478424072, 3.3418102264404297, 4.588009834289551, 6.243450880050659, 3.9842898845672607, 6.197070837020874]\n"
   ]
  },
  {
   "cell_type": "code",
   "execution_count": 87,
   "metadata": {},
   "outputs": [],
   "source": [
    "whatif_1_3_exe_time_list=[0.05428791046142578, 5.520536184310913, 0.23395061492919922, 6.852102279663086, 1.8042726516723633, 1.2469761371612549, 2.2781195640563965, 0.21676349639892578, 0.31835150718688965, 0.19641923904418945, 3.965975284576416, 16.718295574188232, 1.8667185306549072, 13.545377016067505, 3.980588912963867, 4.702047348022461, 0.1550586223602295, 2.3293542861938477, 3.7714288234710693, 1.0027515888214111, 8.035083293914795, 0.27580738067626953, 3.5825395584106445, 4.083943605422974, 2.983738660812378, 2.884059429168701, 3.9179744720458984, 0.022050857543945312, 2.4797255992889404, 6.16710352897644, 1.9783687591552734, 7.837226629257202, 7.084596157073975, 3.359135389328003, 4.6203954219818115, 2.2220284938812256, 3.503720760345459, 3.897042989730835, 2.412109851837158, 2.3531060218811035, 4.523178815841675, 2.891099214553833, 3.773317337036133, 8.517287254333496, 5.921323299407959, 3.3485684394836426, 3.1590664386749268, 3.62306547164917, 2.1575632095336914, 2.6203737258911133, 3.8203861713409424, 4.5115110874176025, 6.18371319770813, 4.192481517791748, 3.598445177078247, 2.2175052165985107, 2.194897174835205, 2.162705898284912, 2.3137571811676025, 2.666947364807129]\n",
    "lib_1_3_exe_time_list=[2.2255332469940186, 2.3574001789093018, 2.285673141479492, 5.174586296081543, 1.8282575607299805, 1.2407252788543701, 1.1846988201141357, 2.0760910511016846, 3.048027992248535, 2.0715420246124268, 3.9375617504119873, 15.858968257904053, 1.843076229095459, 13.672709465026855, 3.1447229385375977, 5.308428764343262, 2.8822691440582275, 2.1657724380493164, 3.242340087890625, 1.0071322917938232, 8.055506944656372, 2.741290330886841, 3.477153778076172, 4.262867212295532, 2.9827163219451904, 4.959117412567139, 3.883890390396118, 0.26563286781311035, 2.5396227836608887, 6.40828537940979, 2.143373727798462, 8.568523168563843, 7.112485647201538, 2.2076151371002197, 4.0247344970703125, 2.2592687606811523, 3.644359827041626, 3.9390745162963867, 2.422664165496826, 2.3362085819244385, 6.977624416351318, 2.8574628829956055, 3.709627389907837, 8.084851026535034, 5.98064112663269, 3.729532480239868, 3.09023380279541, 3.7625412940979004, 2.2115824222564697, 2.5949933528900146, 1.3780462741851807, 4.585742712020874, 6.636673450469971, 4.501331090927124, 5.881287336349487, 2.1696345806121826, 2.099886417388916, 2.076951503753662, 0.00492095947265625, 2.7217087745666504]\n",
    "tree_model_1_3_exe_time_list=[2.05395770072937, 3.5318143367767334, 2.311950445175171, 5.134293556213379, 1.2755630016326904, 1.2162141799926758, 1.5998787879943848, 2.3285672664642334, 3.170775890350342, 2.3352878093719482, 3.9993081092834473, 16.402812242507935, 2.219689130783081, 13.547489881515503, 3.0768139362335205, 4.940316200256348, 2.9649388790130615, 2.226283550262451, 3.271900177001953, 0.907106876373291, 8.171952724456787, 2.6989803314208984, 3.5710721015930176, 4.463808298110962, 3.0528883934020996, 2.7556474208831787, 4.058840751647949, 0.30377888679504395, 2.706737756729126, 6.216721534729004, 2.3401858806610107, 8.787363529205322, 6.9801812171936035, 3.1666817665100098, 3.9347078800201416, 2.204259157180786, 3.5626068115234375, 4.031168460845947, 2.470898389816284, 2.4210610389709473, 7.017441034317017, 2.9437100887298584, 4.12598729133606, 8.949293851852417, 6.150502681732178, 3.7023465633392334, 3.1099185943603516, 3.8990015983581543, 2.254986047744751, 2.6031219959259033, 1.4569952487945557, 4.647810459136963, 6.680164098739624, 4.788561105728149, 5.5636515617370605, 2.3135998249053955, 2.614389181137085, 2.1519782543182373, 0.005583286285400391, 2.6751508712768555]\n",
    "\n",
    "# part2\n",
    "whatif_1_3_exe_time_list=[0.06142306327819824, 4.563741683959961, 0.26563501358032227, 5.561208009719849, 0.11684966087341309, 0.10499858856201172, 2.2749478816986084, 0.20042824745178223, 0.3639853000640869, 0.19562864303588867, 3.90033221244812, 16.77265977859497, 1.9516935348510742, 13.663005828857422, 3.9768097400665283, 4.829249143600464, 0.13612699508666992, 2.319314956665039, 3.387458086013794, 1.0431146621704102, 8.221421241760254, 0.2472679615020752, 3.6027169227600098, 5.097876787185669, 3.1281545162200928, 2.9542171955108643, 3.9072799682617188, 0.022450685501098633, 2.5591840744018555, 6.311790227890015, 2.1630148887634277, 8.19379186630249, 7.10228157043457, 3.1911911964416504, 3.926995277404785, 2.1630194187164307, 3.449840784072876, 3.9890637397766113, 2.4502763748168945, 2.7977328300476074, 4.74455189704895, 2.7999155521392822, 3.6541688442230225, 8.989500522613525, 5.938908815383911, 3.522409439086914, 3.177734851837158, 3.711366653442383, 2.4111387729644775, 2.605875015258789, 3.4460511207580566, 4.70686411857605, 6.291844844818115, 5.09957218170166, 3.753335952758789, 13.211594581604004, 15.156702995300293, 16.325484037399292, 20.072359323501587, 11.976127624511719]\n",
    "\n",
    "# part3\n",
    "whatif_1_3_exe_time_list=[2.1603517532348633, 4.162460088729858, 2.2967581748962402, 5.468854904174805, 1.7475612163543701, 1.2070908546447754, 1.9330744743347168, 2.8870291709899902, 3.3886559009552, 3.0069684982299805, 4.5351338386535645, 15.912237644195557, 1.7663164138793945, 13.220994472503662, 3.6352181434631348, 4.690085172653198, 0.12833476066589355, 2.2314836978912354, 3.2100186347961426, 0.9877612590789795, 7.9996302127838135, 0.21744656562805176, 3.436941385269165, 3.977644205093384, 2.8895506858825684, 1.1184816360473633, 3.999481439590454, 0.02295970916748047, 2.581294059753418, 6.691710472106934, 1.8864564895629883, 7.449101686477661, 7.318857192993164, 3.3410937786102295, 4.024419546127319, 2.387908458709717, 3.502920150756836, 3.697124481201172, 2.671759605407715, 2.3978424072265625, 4.529051780700684, 3.143105983734131, 3.704050302505493, 9.137745141983032, 5.877671480178833, 3.696289539337158, 13.535250186920166, 11.97470736503601, 14.964274883270264, 10.23212742805481, 13.443574666976929, 10.662768602371216, 13.005188226699829, 14.183752536773682, 16.525949716567993, 17.17331600189209, 10.851322650909424, 9.44458818435669, 18.661518335342407, 18.794352054595947]\n",
    "tree_model_1_3_exe_time_list=[0.059931278228759766, 2.24885630607605, 0.14155173301696777, 4.702540636062622, 0.11466836929321289, 0.1071619987487793, 2.255248785018921, 0.288407564163208, 0.5503220558166504, 0.31708860397338867, 4.571115970611572, 15.838799953460693, 1.8322818279266357, 13.544970989227295, 4.571274042129517, 4.757205963134766, 3.200322389602661, 2.2205312252044678, 3.217378616333008, 3.578101634979248, 8.01391315460205, 2.5762994289398193, 3.5671963691711426, 4.323356866836548, 3.119575023651123, 0.655024528503418, 3.8785345554351807, 0.41149282455444336, 2.4985952377319336, 6.116945028305054, 1.889756441116333, 7.675892353057861, 6.821675062179565, 3.06112003326416, 3.9136292934417725, 2.2525861263275146, 3.4684066772460938, 3.734142780303955, 2.398061752319336, 2.2615413665771484, 7.092646837234497, 2.7838430404663086, 3.6026830673217773, 8.104926586151123, 5.779170513153076, 3.5084805488586426, 12.985526084899902, 11.64932656288147, 15.0806565284729, 9.325302124023438, 13.020039319992065, 10.628010034561157, 13.260869026184082, 14.094609260559082, 16.246906280517578, 17.474223852157593, 10.805652856826782, 9.71863865852356, 17.856646060943604, 18.57049059867859]"
   ]
  },
  {
   "cell_type": "code",
   "execution_count": 88,
   "metadata": {},
   "outputs": [
    {
     "data": {
      "text/plain": [
       "(373.72961831092834, 362.3441526889801)"
      ]
     },
     "execution_count": 88,
     "metadata": {},
     "output_type": "execute_result"
    }
   ],
   "source": [
    "sum(whatif_1_3_exe_time_list),sum(tree_model_1_3_exe_time_list)"
   ]
  },
  {
   "cell_type": "code",
   "execution_count": 82,
   "metadata": {},
   "outputs": [
    {
     "name": "stdout",
     "output_type": "stream",
     "text": [
      "[2.1603517532348633, 4.162460088729858, 2.2967581748962402, 5.468854904174805, 1.7475612163543701, 1.2070908546447754, 1.9330744743347168, 2.8870291709899902, 3.3886559009552, 3.0069684982299805, 4.5351338386535645, 15.912237644195557, 1.7663164138793945, 13.220994472503662, 3.6352181434631348, 4.690085172653198, 0.12833476066589355, 2.2314836978912354, 3.2100186347961426, 0.9877612590789795, 7.9996302127838135, 0.21744656562805176, 3.436941385269165, 3.977644205093384, 2.8895506858825684, 1.1184816360473633, 3.999481439590454, 0.02295970916748047, 2.581294059753418, 6.691710472106934, 1.8864564895629883, 7.449101686477661, 7.318857192993164, 3.3410937786102295, 4.024419546127319, 2.387908458709717, 3.502920150756836, 3.697124481201172, 2.671759605407715, 2.3978424072265625, 4.529051780700684, 3.143105983734131, 3.704050302505493, 9.137745141983032, 5.877671480178833, 3.696289539337158, 13.535250186920166, 11.97470736503601, 14.964274883270264, 10.23212742805481, 13.443574666976929, 10.662768602371216, 13.005188226699829, 14.183752536773682, 16.525949716567993, 17.17331600189209, 10.851322650909424, 9.44458818435669, 18.661518335342407, 18.794352054595947]\n"
     ]
    }
   ],
   "source": [
    "print(exe_time_list)"
   ]
  },
  {
   "cell_type": "code",
   "execution_count": 83,
   "metadata": {},
   "outputs": [
    {
     "data": {
      "text/plain": [
       "(53.973347187042236, 162.72945713996887)"
      ]
     },
     "execution_count": 83,
     "metadata": {},
     "output_type": "execute_result"
    }
   ],
   "source": [
    "sum(whatif_1_3_exe_time_list[:15]),sum(whatif_1_2_exe_time_list[15:])"
   ]
  },
  {
   "cell_type": "code",
   "execution_count": 84,
   "metadata": {},
   "outputs": [
    {
     "data": {
      "text/plain": [
       "(51.14422011375427, 311.19993257522583)"
      ]
     },
     "execution_count": 84,
     "metadata": {},
     "output_type": "execute_result"
    }
   ],
   "source": [
    "sum(tree_model_1_3_exe_time_list[:15]),sum(tree_model_1_3_exe_time_list[15:])"
   ]
  },
  {
   "cell_type": "code",
   "execution_count": 85,
   "metadata": {},
   "outputs": [
    {
     "data": {
      "text/plain": [
       "(61.94957423210144, 167.89560747146606)"
      ]
     },
     "execution_count": 85,
     "metadata": {},
     "output_type": "execute_result"
    }
   ],
   "source": [
    "sum(lib_1_3_exe_time_list[:15]),sum(lib_1_3_exe_time_list[15:])"
   ]
  },
  {
   "cell_type": "code",
   "execution_count": null,
   "metadata": {},
   "outputs": [],
   "source": []
  }
 ],
 "metadata": {
  "kernelspec": {
   "display_name": "test",
   "language": "python",
   "name": "python3"
  },
  "language_info": {
   "codemirror_mode": {
    "name": "ipython",
    "version": 3
   },
   "file_extension": ".py",
   "mimetype": "text/x-python",
   "name": "python",
   "nbconvert_exporter": "python",
   "pygments_lexer": "ipython3",
   "version": "3.8.19"
  }
 },
 "nbformat": 4,
 "nbformat_minor": 2
}
