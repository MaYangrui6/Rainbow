{
 "cells": [
  {
   "cell_type": "code",
   "execution_count": 2,
   "metadata": {},
   "outputs": [
    {
     "data": {
      "text/plain": [
       "60"
      ]
     },
     "execution_count": 2,
     "metadata": {},
     "output_type": "execute_result"
    }
   ],
   "source": [
    "def extract_sql_from_file(file_path):\n",
    "    with open(file_path, 'r') as file:\n",
    "        sql_commands = file.read().split(';')  # 将文件内容按分号分割成多个 SQL 语句\n",
    "        # 去除空白项并去除换行符\n",
    "        sql_commands = [sql.strip() for sql in sql_commands if sql.strip()]\n",
    "    return sql_commands\n",
    "\n",
    "\n",
    "# 调用函数提取 SQL 语句\n",
    "queries_list = extract_sql_from_file('/home/ubuntu/project/mayang/LOGER/experiment/part3/setting5/set5.sql')\n",
    "len(queries_list)"
   ]
  },
  {
   "cell_type": "code",
   "execution_count": 3,
   "metadata": {},
   "outputs": [],
   "source": [
    "# def extract_sql_from_file(file_path):\n",
    "#     with open(file_path, 'r') as file:\n",
    "#         sql_commands = file.read().split(';')  # 将文件内容按分号分割成多个 SQL 语句\n",
    "#         # 去除空白项并去除换行符\n",
    "#         sql_commands = [sql.strip() for sql in sql_commands if sql.strip()]\n",
    "#     return sql_commands\n",
    "\n",
    "# def save_queries_to_file(queries, output_file_path):\n",
    "#     with open(output_file_path, 'w') as file:\n",
    "#         for query in queries:\n",
    "#             file.write(query + ';\\n')  # 在每个查询后添加分号\n",
    "\n",
    "# # 提取 SQL 语句\n",
    "# queries_list = extract_sql_from_file('/home/ubuntu/project/index_selection_evaluation/queries/tpch/tpch_queries.sql')\n",
    "\n",
    "# # 提取前10个查询\n",
    "# first_10_queries = queries_list[:16]\n",
    "\n",
    "# # 保存到新的 SQL 文件\n",
    "# save_queries_to_file(first_10_queries, '/home/ubuntu/project/mayang/LOGER/experiment/tpch/first_100_queries.sql')\n"
   ]
  },
  {
   "cell_type": "code",
   "execution_count": 4,
   "metadata": {},
   "outputs": [],
   "source": [
    "# setting1\n",
    "\n",
    "whatif_3_1=\"[I(C cast_info.role_id), I(C person_info.person_id,C person_info.info_type_id), I(C aka_name.person_id), I(C movie_keyword.keyword_id), I(C complete_cast.status_id,C complete_cast.movie_id), I(C movie_keyword.keyword_id,C movie_keyword.movie_id), I(C person_info.person_id), I(C movie_link.linked_movie_id), I(C keyword.keyword,C keyword.id), I(C keyword.id,C keyword.keyword), I(C complete_cast.movie_id,C complete_cast.subject_id)]\"\n",
    "lib_3_1=\"[I(C aka_name.person_id), I(C movie_link.linked_movie_id,C movie_link.movie_id), I(C kind_type.id), I(C char_name.name,C char_name.id), I(C movie_info_idx.movie_id), I(C name.gender), I(C cast_info.person_id), I(C movie_link.movie_id,C movie_link.linked_movie_id), I(C person_info.person_id), I(C kind_type.kind,C kind_type.id), I(C name.gender,C name.id), I(C movie_keyword.keyword_id), I(C movie_info_idx.movie_id,C movie_info_idx.info_type_id), I(C complete_cast.movie_id,C complete_cast.status_id), I(C movie_info_idx.movie_id,C movie_info_idx.info), I(C complete_cast.movie_id), I(C movie_link.movie_id), I(C movie_companies.movie_id)]\"\n",
    "# tree_model_3_1=\"[I(C cast_info.person_id,C cast_info.person_role_id), I(C complete_cast.movie_id,C complete_cast.subject_id), I(C keyword.id,C keyword.keyword), I(C complete_cast.status_id,C complete_cast.movie_id), I(C name.gender), I(C person_info.person_id,C person_info.info_type_id), I(C aka_name.person_id), I(C company_type.id), I(C movie_keyword.keyword_id,C movie_keyword.movie_id), I(C movie_link.linked_movie_id,C movie_link.movie_id), I(C keyword.keyword,C keyword.id)]\"\n",
    "tree_model_3_1=\"[I(C title.id,C title.title), I(C cast_info.person_id), I(C cast_info.role_id), I(C person_info.person_id,C person_info.info_type_id), I(C person_info.person_id), I(C role_type.role,C role_type.id), I(C complete_cast.status_id,C complete_cast.movie_id), I(C movie_keyword.movie_id,C movie_keyword.keyword_id), I(C movie_keyword.keyword_id,C movie_keyword.movie_id), I(C movie_link.linked_movie_id,C movie_link.movie_id), I(C keyword.id,C keyword.keyword), I(C name.gender), I(C keyword.keyword), I(C movie_keyword.keyword_id), I(C aka_name.person_id)]\""
   ]
  },
  {
   "cell_type": "code",
   "execution_count": 5,
   "metadata": {},
   "outputs": [],
   "source": [
    "# setting2\n",
    "whatif_2_1=\"[I(C name.gender), I(C movie_link.linked_movie_id,C movie_link.movie_id), I(C cast_info.movie_id,C cast_info.person_id), I(C movie_link.linked_movie_id), I(C complete_cast.status_id,C complete_cast.subject_id), I(C movie_info_idx.movie_id,C movie_info_idx.info_type_id), I(C complete_cast.status_id,C complete_cast.movie_id), I(C movie_info_idx.info_type_id,C movie_info_idx.info), I(C person_info.note,C person_info.info_type_id)]\"\n",
    "lib_2_1=\"[I(C name.gender), I(C movie_info_idx.movie_id,C movie_info_idx.info_type_id), I(C link_type.id,C link_type.link), I(C char_name.name,C char_name.id), I(C name.gender,C name.id), I(C movie_companies.movie_id), I(C movie_link.movie_id), I(C movie_info_idx.movie_id,C movie_info_idx.info), I(C movie_keyword.keyword_id), I(C movie_info_idx.movie_id), I(C aka_name.person_id), I(C movie_link.linked_movie_id,C movie_link.movie_id), I(C complete_cast.movie_id), I(C movie_link.movie_id,C movie_link.linked_movie_id)]\"\n",
    "tree_model_2_1=\"[I(C movie_keyword.movie_id), I(C movie_link.linked_movie_id,C movie_link.movie_id), I(C person_info.info_type_id,C person_info.note), I(C info_type.id), I(C movie_info_idx.movie_id,C movie_info_idx.info_type_id), I(C complete_cast.subject_id,C complete_cast.status_id), I(C person_info.person_id,C person_info.info_type_id), I(C name.gender), I(C comp_cast_type.id,C comp_cast_type.kind), I(C role_type.id,C role_type.role), I(C cast_info.role_id)]\"\n",
    "\n"
   ]
  },
  {
   "cell_type": "code",
   "execution_count": 6,
   "metadata": {},
   "outputs": [],
   "source": [
    "#setting3\n",
    "whatif_1_1=\"[I(C cast_info.role_id), I(C keyword.id,C keyword.keyword), I(C name.gender), I(C complete_cast.status_id,C complete_cast.subject_id), I(C movie_info_idx.info_type_id,C movie_info_idx.info), I(C title.production_year), I(C title.title,C title.production_year), I(C person_info.note,C person_info.info_type_id), I(C movie_companies.movie_id,C movie_companies.note), I(C complete_cast.status_id,C complete_cast.movie_id), I(C movie_link.linked_movie_id,C movie_link.movie_id)]\"\n",
    "lib_1_1=\"[I(C aka_name.person_id), I(C cast_info.person_id,C cast_info.role_id), I(C movie_keyword.movie_id,C movie_keyword.keyword_id), I(C movie_keyword.keyword_id,C movie_keyword.movie_id), I(C role_type.role,C role_type.id), I(C movie_info_idx.movie_id,C movie_info_idx.info)]\"\n",
    "tree_model_1_1=\"[I(C comp_cast_type.id,C comp_cast_type.kind), I(C cast_info.movie_id,C cast_info.person_id), I(C complete_cast.status_id,C complete_cast.movie_id), I(C person_info.note,C person_info.info_type_id), I(C complete_cast.subject_id,C complete_cast.status_id), I(C name.gender), I(C title.production_year,C title.title), I(C movie_link.linked_movie_id,C movie_link.movie_id)]\"\n",
    "\n"
   ]
  },
  {
   "cell_type": "code",
   "execution_count": 7,
   "metadata": {},
   "outputs": [],
   "source": [
    "#setting4\n",
    "# whatif_1_2=\"[I(C movie_info_idx.info_type_id,C movie_info_idx.info), I(C name.gender), I(C char_name.id), I(C aka_name.person_id), I(C keyword.id,C keyword.keyword), I(C person_info.person_id,C person_info.note), I(C movie_link.linked_movie_id,C movie_link.movie_id), I(C complete_cast.subject_id,C complete_cast.status_id), I(C complete_cast.status_id,C complete_cast.movie_id), I(C person_info.person_id), I(C person_info.note,C person_info.info_type_id), I(C movie_link.link_type_id), I(C movie_keyword.keyword_id), I(C keyword.keyword,C keyword.id), I(C cast_info.person_id)]\"\n",
    "# whatif_1_2=\"[I(C movie_info_idx.movie_id,C movie_info_idx.info_type_id), I(C aka_name.person_id), I(C person_info.person_id), I(C movie_info_idx.info_type_id,C movie_info_idx.info), I(C movie_link.link_type_id), I(C keyword.id,C keyword.keyword), I(C person_info.info_type_id,C person_info.note), I(C name.gender), I(C movie_link.linked_movie_id), I(C title.id,C title.production_year), I(C keyword.keyword,C keyword.id), I(C movie_keyword.keyword_id), I(C complete_cast.status_id,C complete_cast.movie_id), I(C cast_info.person_id)]\"\n",
    "whatif_1_2=\"[I(C movie_info_idx.info_type_id,C movie_info_idx.info), I(C kind_type.kind,C kind_type.id), I(C movie_keyword.keyword_id), I(C aka_name.person_id), I(C cast_info.role_id), I(C movie_keyword.keyword_id,C movie_keyword.movie_id), I(C movie_link.linked_movie_id,C movie_link.link_type_id), I(C movie_info_idx.movie_id,C movie_info_idx.info_type_id), I(C complete_cast.status_id,C complete_cast.movie_id), I(C movie_link.link_type_id), I(C movie_keyword.movie_id,C movie_keyword.keyword_id), I(C complete_cast.status_id,C complete_cast.subject_id), I(C keyword.id,C keyword.keyword), I(C keyword.keyword,C keyword.id), I(C person_info.note,C person_info.info_type_id), I(C person_info.person_id,C person_info.note)]\"\n",
    "# whatif_1_2=\"[I(C person_info.person_id,C person_info.note), I(C movie_link.linked_movie_id,C movie_link.link_type_id), I(C kind_type.kind,C kind_type.id), I(C movie_info_idx.info_type_id,C movie_info_idx.info), I(C aka_name.person_id), I(C movie_link.link_type_id), I(C complete_cast.status_id,C complete_cast.movie_id), I(C keyword.id,C keyword.keyword), I(C movie_keyword.keyword_id), I(C keyword.keyword,C keyword.id), I(C cast_info.movie_id,C cast_info.role_id), I(C complete_cast.subject_id,C complete_cast.status_id)]\"\n",
    "# lib_1_2=\"[I(C movie_link.link_type_id,C movie_link.movie_id), I(C name.gender), I(C name.id), I(C movie_link.linked_movie_id,C movie_link.movie_id), I(C movie_link.movie_id,C movie_link.link_type_id), I(C link_type.id,C link_type.link), I(C name.gender,C name.id), I(C movie_link.movie_id,C movie_link.linked_movie_id), I(C aka_name.person_id), I(C cast_info.person_id,C cast_info.movie_id), I(C movie_link.movie_id), I(C movie_info_idx.movie_id,C movie_info_idx.info_type_id)]\"\n",
    "lib_1_2=\"[I(C cast_info.movie_id,C cast_info.role_id), I(C movie_keyword.movie_id,C movie_keyword.keyword_id), I(C aka_name.person_id), I(C movie_info_idx.info_type_id,C movie_info_idx.info), I(C movie_keyword.keyword_id,C movie_keyword.movie_id), I(C kind_type.kind,C kind_type.id)]\"\n",
    "tree_model_1_2=\"[I(C person_info.person_id,C person_info.info_type_id), I(C movie_companies.movie_id), I(C link_type.id,C link_type.link), I(C movie_keyword.keyword_id,C movie_keyword.movie_id), I(C person_info.person_id), I(C keyword.id,C keyword.keyword), I(C comp_cast_type.id,C comp_cast_type.kind), I(C movie_link.movie_id,C movie_link.linked_movie_id), I(C cast_info.person_id,C cast_info.role_id)]\""
   ]
  },
  {
   "cell_type": "code",
   "execution_count": 8,
   "metadata": {},
   "outputs": [],
   "source": [
    "#setting5\n",
    "whatif_1_3=\"[I(C movie_link.link_type_id,C movie_link.linked_movie_id), I(C movie_info_idx.movie_id,C movie_info_idx.info_type_id), I(C person_info.info_type_id,C person_info.note), I(C complete_cast.status_id,C complete_cast.movie_id), I(C title.title,C title.production_year), I(C keyword.keyword,C keyword.id), I(C keyword.id,C keyword.keyword), I(C movie_link.linked_movie_id,C movie_link.link_type_id), I(C person_info.person_id,C person_info.info_type_id), I(C movie_link.link_type_id), I(C title.production_year), I(C movie_keyword.movie_id), I(C movie_info_idx.info_type_id,C movie_info_idx.info), I(C movie_keyword.keyword_id), I(C name.gender)]\"\n",
    "lib_1_3=\"[I(C movie_link.link_type_id,C movie_link.linked_movie_id), I(C aka_name.person_id), I(C name.gender), I(C aka_title.movie_id), I(C movie_link.link_type_id,C movie_link.movie_id), I(C movie_link.movie_id), I(C link_type.id,C link_type.link), I(C keyword.keyword,C keyword.id), I(C cast_info.person_id,C cast_info.movie_id), I(C movie_link.link_type_id), I(C movie_link.movie_id,C movie_link.linked_movie_id), I(C movie_link.linked_movie_id,C movie_link.link_type_id), I(C name.id,C name.gender), I(C complete_cast.movie_id), I(C name.gender,C name.id), I(C movie_link.movie_id,C movie_link.link_type_id)]\"\n",
    "tree_model_1_3=\"[I(C cast_info.person_id,C cast_info.role_id), I(C keyword.id,C keyword.keyword), I(C title.title,C title.production_year), I(C name.gender), I(C complete_cast.status_id,C complete_cast.movie_id), I(C company_type.id,C company_type.kind), I(C comp_cast_type.id,C comp_cast_type.kind), I(C title.production_year), I(C info_type.id), I(C movie_link.linked_movie_id), I(C movie_keyword.keyword_id)]\""
   ]
  },
  {
   "cell_type": "code",
   "execution_count": null,
   "metadata": {},
   "outputs": [
    {
     "name": "stdout",
     "output_type": "stream",
     "text": [
      "CREATE INDEX ON movie_link (link_type_id,linked_movie_id);\n",
      "CREATE INDEX ON aka_name (person_id);\n",
      "CREATE INDEX ON name (gender);\n",
      "CREATE INDEX ON aka_title (movie_id);\n",
      "CREATE INDEX ON movie_link (link_type_id,movie_id);\n",
      "CREATE INDEX ON movie_link (movie_id);\n",
      "CREATE INDEX ON link_type (id,link);\n",
      "CREATE INDEX ON keyword (keyword,id);\n",
      "CREATE INDEX ON cast_info (person_id,movie_id);\n",
      "CREATE INDEX ON movie_link (link_type_id);\n",
      "CREATE INDEX ON movie_link (movie_id,linked_movie_id);\n",
      "CREATE INDEX ON movie_link (linked_movie_id,link_type_id);\n",
      "CREATE INDEX ON name (id,gender);\n",
      "CREATE INDEX ON complete_cast (movie_id);\n",
      "CREATE INDEX ON name (gender,id);\n",
      "CREATE INDEX ON movie_link (movie_id,link_type_id);\n",
      "查询因超时被取消: canceling statement due to statement timeout\n",
      "\n",
      "Query 1: executed in 100.0000 seconds\n",
      "Query 2: executed in 4.0310 seconds\n",
      "Query 3: executed in 1.1934 seconds\n",
      "Query 4: executed in 2.8871 seconds\n",
      "Query 5: executed in 6.0327 seconds\n",
      "Query 6: executed in 1.3813 seconds\n",
      "Query 7: executed in 2.5431 seconds\n",
      "Query 8: executed in 0.3193 seconds\n",
      "Query 9: executed in 0.4459 seconds\n",
      "Query 10: executed in 3.5843 seconds\n",
      "Query 11: executed in 1.0924 seconds\n",
      "Query 12: executed in 4.8948 seconds\n",
      "Query 13: executed in 0.3593 seconds\n",
      "Query 14: executed in 2.8972 seconds\n",
      "Query 15: executed in 1.5395 seconds\n",
      "Query 16: executed in 3.8537 seconds\n",
      "Query 17: executed in 0.8509 seconds\n",
      "Query 18: executed in 3.0763 seconds\n",
      "Query 19: executed in 1.3653 seconds\n",
      "Query 20: executed in 1.6015 seconds\n",
      "Total execution time for workload: 143.9488 s\n",
      "DROP INDEX IF EXISTS movie_link_link_type_id_linked_movie_id_idx;\n",
      "DROP INDEX IF EXISTS aka_name_person_id_idx;\n",
      "DROP INDEX IF EXISTS name_gender_idx;\n",
      "DROP INDEX IF EXISTS aka_title_movie_id_idx;\n",
      "DROP INDEX IF EXISTS movie_link_link_type_id_movie_id_idx;\n",
      "DROP INDEX IF EXISTS movie_link_movie_id_idx;\n",
      "DROP INDEX IF EXISTS link_type_id_link_idx;\n",
      "DROP INDEX IF EXISTS keyword_keyword_id_idx;\n",
      "DROP INDEX IF EXISTS cast_info_person_id_movie_id_idx;\n",
      "DROP INDEX IF EXISTS movie_link_link_type_id_idx;\n",
      "DROP INDEX IF EXISTS movie_link_movie_id_linked_movie_id_idx;\n",
      "DROP INDEX IF EXISTS movie_link_linked_movie_id_link_type_id_idx;\n",
      "DROP INDEX IF EXISTS name_id_gender_idx;\n",
      "DROP INDEX IF EXISTS complete_cast_movie_id_idx;\n",
      "DROP INDEX IF EXISTS name_gender_id_idx;\n",
      "DROP INDEX IF EXISTS movie_link_movie_id_link_type_id_idx;\n"
     ]
    }
   ],
   "source": [
    "import psycopg2\n",
    "import re\n",
    "import json\n",
    "import time\n",
    "\n",
    "class RealIndex:\n",
    "    def __init__(self, index_config):\n",
    "        self.index_config = index_config.strip()\n",
    "    \n",
    "    def index_idx(self):\n",
    "        match = re.match(r'I\\(C\\s+(.*?)\\)', self.index_config)\n",
    "        if match:\n",
    "            column_names = match.group(1).split(',')\n",
    "            cleaned_column_names = [name.split('.')[-1].strip() for name in column_names]\n",
    "            columns = \"_\".join(self._column_names())\n",
    "            return f\"{self.table()}_{columns}_idx\"\n",
    "        else:\n",
    "            print('errot in index_idx')\n",
    "            return None\n",
    "        \n",
    "    def table(self):\n",
    "        start = self.index_config.find('(') + 1\n",
    "        end = self.index_config.find('.')\n",
    "        if start != -1 and end != -1:\n",
    "            return self.index_config[start:end].strip().split()[-1]\n",
    "        else:\n",
    "            return self.index_config.strip()\n",
    "\n",
    "    def joined_column_names(self):\n",
    "        match = re.match(r'I\\(C\\s+(.*?)\\)', self.index_config)\n",
    "        if match:\n",
    "            column_names = match.group(1).split(',')\n",
    "            cleaned_column_names = [name.split('.')[-1].strip() for name in column_names]\n",
    "            return ','.join(cleaned_column_names)\n",
    "        else:\n",
    "            return None\n",
    "        \n",
    "    def joined_column_drop_names(self):\n",
    "        match = re.match(r'I\\(C\\s+(.*?)\\)', self.index_config)\n",
    "        if match:\n",
    "            column_names = match.group(1).split(',')\n",
    "            cleaned_column_names = [name.split('.')[-1].strip() for name in column_names]\n",
    "            return '_'.join(cleaned_column_names)\n",
    "        else:\n",
    "            return None\n",
    "\n",
    "# class QueryExecutor:\n",
    "#     def __init__(self, dbname, user, password, host, port):\n",
    "#         self.conn = psycopg2.connect(\n",
    "#             dbname=dbname,\n",
    "#             user=user,\n",
    "#             password=password,\n",
    "#             host=host,\n",
    "#             port=port\n",
    "#         )\n",
    "#         self.cursor = self.conn.cursor()\n",
    "        \n",
    "#     def exec_query(self, query):\n",
    "#         query_text = query  # 直接使用传入的查询\n",
    "#         start_time = time.time()\n",
    "#         self.cursor.execute(query_text)\n",
    "#         execution_time = time.time() - start_time\n",
    "#         return execution_time\n",
    "\n",
    "#     def exec_fetch(self, query):\n",
    "#         with self.conn.cursor() as cur:\n",
    "#             cur.execute(query)\n",
    "#             # 如果是 DDL 语句（如 CREATE INDEX），则不返回结果\n",
    "#             if query.startswith(\"CREATE\") or query.startswith(\"DROP\"):\n",
    "#                 return\n",
    "#             return cur.fetchall()\n",
    "\n",
    "#     def create_index(self, index):\n",
    "#         # print(f\"CREATEING INDEX ON {index.table()} ({index.joined_column_names()})\")\n",
    "#         create_statement = f\"CREATE INDEX ON {index.table()} ({index.joined_column_names()})\"\n",
    "#         print(create_statement+';')\n",
    "#         self.exec_fetch(create_statement)\n",
    "\n",
    "#     def drop_index(self, index):\n",
    "#         # print(f\"DROPING INDEX IF EXISTS {index.index_config}\")\n",
    "#         drop_statement = f\"DROP INDEX IF EXISTS \"+f\"{index.table()}_{index.joined_column_drop_names()}_idx\"\n",
    "#         print(drop_statement+';')\n",
    "#         self.exec_fetch(drop_statement)\n",
    "        \n",
    "#     def execute_workload_and_measure_time(self, query_list):\n",
    "#         total_execution_time = 0\n",
    "#         exe_time_list = []\n",
    "#         for index, query in enumerate(query_list, start=1):\n",
    "#             execution_time = self.exec_query(query)\n",
    "#             total_execution_time += execution_time\n",
    "#             exe_time_list.append(round(execution_time, 2))\n",
    "#             print(f\"Query {index}: executed in {execution_time:.4f} seconds\")\n",
    "#         return total_execution_time, exe_time_list\n",
    "\n",
    "#     def extract_execution_time(self, explain_result):\n",
    "#         # 解析 EXPLAIN ANALYZE 的返回结果，提取执行时间\n",
    "#         execution_time = 0\n",
    "#         for line in explain_result:\n",
    "#             plan = json.loads(line[0])\n",
    "#             execution_time = plan['Total Time']  # 假设提取总时间\n",
    "#         return execution_time\n",
    "\n",
    "#     def close(self):\n",
    "#         self.conn.close()\n",
    "\n",
    "def parse_index_configs(index_configs):\n",
    "    indexes = re.findall(r'I\\(C\\s*[^()]*\\)', index_configs)\n",
    "    parsed_indexes = []\n",
    "    for index in indexes:\n",
    "        parsed_indexes.append(RealIndex(index.strip()))\n",
    "    return parsed_indexes\n",
    "\n",
    "class QueryExecutor:\n",
    "    def __init__(self, dbname, user, password, host, port, statement_timeout=100000):\n",
    "        # 连接数据库，并设置最大执行时间（单位：毫秒）\n",
    "        self.conn = psycopg2.connect(\n",
    "            dbname=dbname,\n",
    "            user=user,\n",
    "            password=password,\n",
    "            host=host,\n",
    "            port=port,\n",
    "            options=f'-c statement_timeout={statement_timeout}'\n",
    "        )\n",
    "        self.cursor = self.conn.cursor()\n",
    "\n",
    "    def exec_query(self, query):\n",
    "        query_text = query  # 使用传入的查询语句\n",
    "        start_time = time.time()\n",
    "        try:\n",
    "            self.cursor.execute(query_text)\n",
    "        except psycopg2.errors.QueryCanceled as e:\n",
    "            print(f\"查询因超时被取消: {e}\")\n",
    "            self.conn.rollback()  # 查询超时时回滚事务\n",
    "            return 100  # 返回100秒作为默认执行时间\n",
    "        except psycopg2.Error as e:\n",
    "            print(f\"查询失败，错误信息: {e}\")\n",
    "            self.conn.rollback()  # 查询失败时回滚事务\n",
    "            return 100  # 返回100秒作为默认执行时间\n",
    "        execution_time = time.time() - start_time\n",
    "        if execution_time > 100:\n",
    "            print(f\"查询执行时间超过100秒，已设置为100秒\")\n",
    "            return 100  # 如果执行时间超过100秒，设置为100秒\n",
    "        return execution_time\n",
    "\n",
    "    def exec_fetch(self, query):\n",
    "        with self.conn.cursor() as cur:\n",
    "            try:\n",
    "                cur.execute(query)\n",
    "            except psycopg2.errors.QueryCanceled as e:\n",
    "                print(f\"查询因超时被取消: {e}\")\n",
    "                self.conn.rollback()  # 查询超时时回滚事务\n",
    "                return None\n",
    "            except psycopg2.Error as e:\n",
    "                print(f\"查询失败，错误信息: {e}\")\n",
    "                self.conn.rollback()  # 查询失败时回滚事务\n",
    "                return None\n",
    "            if query.startswith(\"CREATE\") or query.startswith(\"DROP\"):\n",
    "                return\n",
    "            return cur.fetchall()\n",
    "\n",
    "    def create_index(self, index):\n",
    "        create_statement = f\"CREATE INDEX ON {index.table()} ({index.joined_column_names()})\"\n",
    "        print(create_statement + ';')\n",
    "        self.exec_fetch(create_statement)\n",
    "\n",
    "    def drop_index(self, index):\n",
    "        drop_statement = f\"DROP INDEX IF EXISTS \" + f\"{index.table()}_{index.joined_column_drop_names()}_idx\"\n",
    "        print(drop_statement + ';')\n",
    "        self.exec_fetch(drop_statement)\n",
    "\n",
    "    def execute_workload_and_measure_time(self, query_list):\n",
    "        total_execution_time = 0\n",
    "        exe_time_list = []\n",
    "        for index, query in enumerate(query_list, start=1):\n",
    "            execution_time = self.exec_query(query)\n",
    "            total_execution_time += execution_time\n",
    "            exe_time_list.append(round(execution_time, 2))\n",
    "            print(f\"Query {index}: executed in {execution_time:.4f} seconds\")\n",
    "        return total_execution_time, exe_time_list\n",
    "\n",
    "    def extract_execution_time(self, explain_result):\n",
    "        execution_time = 0\n",
    "        for line in explain_result:\n",
    "            plan = json.loads(line[0])\n",
    "            execution_time = plan['Total Time']  # 假设提取总时间\n",
    "        return execution_time\n",
    "\n",
    "    def close(self):\n",
    "        self.conn.close()\n",
    "\n",
    "\n",
    "\n",
    "# 示例：使用提供的索引配置\n",
    "parsed_indexes = parse_index_configs(whatif_1_3)\n",
    "\n",
    "# 数据库连接信息\n",
    "db_params = {\n",
    "    'dbname': 'imdbload',\n",
    "    'user': 'postgres',\n",
    "    'password': 'password',\n",
    "    'host': 'localhost',\n",
    "    'port': 5432\n",
    "}\n",
    "\n",
    "\n",
    "# 测试工作负载\n",
    "exe_time_list=[]\n",
    "query_list = queries_list.copy()\n",
    "# 执行查询并测量时间\n",
    "statement_timeout = 100000  # 100秒 = 100000毫秒\n",
    "executor = QueryExecutor(**db_params, statement_timeout=statement_timeout)\n",
    "\n",
    "# # 执行工作负载\n",
    "# no_index_total_execution_time ,no_index_exe_time_list= executor.execute_workload_and_measure_time(query_list)\n",
    "# print(f\"Total execution time of No Index for workload: {no_index_total_execution_time:.4f} s\")\n",
    "# print(sum(no_index_exe_time_list))\n",
    "\n",
    "# 创建索引\n",
    "for idx in parsed_indexes:\n",
    "    executor.create_index(idx)\n",
    "\n",
    "# 执行工作负载\n",
    "total_execution_time ,exe_time_list= executor.execute_workload_and_measure_time(query_list)\n",
    "print(f\"Total execution time for workload: {total_execution_time:.4f} s\")\n",
    "\n",
    "# 清理：删除索引\n",
    "for idx in parsed_indexes:\n",
    "    executor.drop_index(idx)\n",
    "\n",
    "executor.close()"
   ]
  },
  {
   "cell_type": "code",
   "execution_count": 10,
   "metadata": {},
   "outputs": [],
   "source": [
    "whatif_3_1_exe_time=180.9260\n",
    "whatif_3_1_exe_time_list=[2.109928607940674, 3.4231932163238525, 1.3468310832977295, 2.1803367137908936, 1.3591549396514893, 1.5184087753295898, 2.1713602542877197, 1.1898419857025146, 4.289993524551392, 0.8492465019226074, 1.4436588287353516, 43.39966869354248, 1.6106641292572021, 3.1607048511505127, 0.6167771816253662, 0.21105098724365234, 25.926753520965576, 2.021218776702881, 0.4669175148010254, 2.762197971343994, 1.0580170154571533, 3.803068161010742, 0.15088105201721191, 0.24392032623291016, 1.3265869617462158, 4.256897926330566, 0.17803430557250977, 2.8038110733032227, 0.004199504852294922, 0.06617569923400879, 0.3537452220916748, 3.832258462905884, 1.7876315116882324, 6.458791017532349, 2.8405022621154785, 2.062148332595825, 3.461479663848877, 0.7644720077514648, 1.838453769683838, 2.666630268096924, 3.148707866668701, 1.5384891033172607, 1.4017794132232666, 3.124983787536621, 0.28429722785949707, 4.514646768569946, 0.2036457061767578, 1.2230195999145508, 2.27467679977417, 2.8499557971954346, 1.9090046882629395, 3.877507209777832, 2.506126880645752, 4.487490653991699, 0.14555740356445312, 2.782778739929199, 0.43975090980529785, 1.8588271141052246, 0.16671490669250488, 0.1723947525024414]\n",
    "\n",
    "lib_3_1_exe_time=86.3666\n",
    "lib_3_1_exe_time_list=[4.106480836868286, 3.912372350692749, 1.4659249782562256, 2.203933000564575, 1.4274120330810547, 0.38268566131591797, 1.6518068313598633, 0.8017127513885498, 0.8416717052459717, 0.9027059078216553, 0.22829270362854004, 0.9748334884643555, 0.1889631748199463, 0.9879322052001953, 0.6017203330993652, 0.06557369232177734, 1.1326329708099365, 0.40973377227783203, 0.11893963813781738, 3.1716692447662354, 0.9270241260528564, 2.128420352935791, 0.03394937515258789, 0.07731986045837402, 0.27971553802490234, 0.695988655090332, 0.08474063873291016, 2.962273597717285, 0.012757301330566406, 0.0979301929473877, 0.44318485260009766, 4.276942014694214, 1.578052043914795, 6.887579679489136, 3.070559024810791, 0.14190030097961426, 3.355733871459961, 0.6532940864562988, 1.9819581508636475, 0.36952972412109375, 1.1595640182495117, 0.993539571762085, 1.1912498474121094, 2.9608004093170166, 0.0733499526977539, 4.02226185798645, 0.06929373741149902, 0.27690982818603516, 1.258678913116455, 2.7992420196533203, 0.16801786422729492, 4.362997055053711, 2.6952428817749023, 3.3805458545684814, 0.06821751594543457, 2.8747544288635254, 0.5468969345092773, 1.494938611984253, 0.1705632209777832, 0.1636524200439453]\n",
    "\n",
    "tree_model_3_1_exe_time=127.3014\n",
    "tree_model_3_1_exe_time_list=[2.97, 3.38, 1.63, 2.41, 1.42, 0.25, 1.83, 0.73, 0.75, 0.89, 0.17, 0.86, 0.18, 1.15, 0.55, 0.2, 1.25, 0.26, 0.47, 3.01, 0.95, 3.95, 0.18, 0.23, 0.27, 0.73, 0.63, 2.8, 0.01, 0.07, 0.35, 3.93, 1.78, 6.94, 2.52, 0.3, 3.53, 0.78, 1.99, 0.25, 1.3, 5.24, 1.59, 3.07, 0.28, 4.56, 0.2, 0.24, 1.28, 3.23, 0.33, 3.99, 1.08, 15.53, 0.5, 3.0, 0.51, 24.46, 0.18, 0.17]"
   ]
  },
  {
   "cell_type": "code",
   "execution_count": 11,
   "metadata": {},
   "outputs": [],
   "source": [
    "no_index_query_exe_time_list=[2.22, 4.25, 2.14, 2.96, 1.6, 1.75, 2.36, 0.97, 4.78, 1.33, 2.08, 1.16, 8.45, 3.09, 0.79, 0.2, 3.0, 2.65, 0.44, 3.08, 0.98, 4.57, 3.36, 0.24, 1.74, 4.89, 0.34, 3.54, 0.18, 0.21, 0.48, 3.91, 2.03, 6.36, 3.13, 1.69, 4.17, 0.93, 2.53, 2.87, 4.87, 0.22, 1.67, 3.81, 2.97, 2.02, 4.09, 2.64, 10.82, 0.34, 2.9, 0.57, 4.42, 0.17, 0.17, 2.38, 1.48, 3.09, 2.96, 1.69]\n",
    "\n",
    "whatif_2_1_exe_time=232.6570\n",
    "whatif_2_1_exe_time_list=[3.15, 4.53, 1.99, 1.25, 1.55, 0.28, 1.61, 0.89, 3.82, 1.05, 2.33, 1.55, 2.8, 3.31, 0.81, 0.23, 1.41, 0.88, 0.31, 5.42, 1.08, 4.59, 3.49, 0.22, 0.2, 3.74, 0.22, 1.87, 0.2, 0.22, 0.47, 3.88, 1.57, 18.87, 3.19, 1.14, 4.57, 0.87, 0.68, 1.97, 3.56, 0.21, 0.18, 1.69, 1.09, 2.56, 1.23, 2.17, 80.56, 0.5, 2.8, 0.56, 35.94, 0.16, 0.16, 2.38, 1.55, 1.1, 1.84, 0.19]\n",
    "lib_2_1_exe_time=110.1917\n",
    "lib_2_1_exe_time_list=[1.97, 4.08, 1.33, 2.09, 1.41, 1.57, 1.62, 0.83, 3.38, 0.81, 1.74, 0.91, 1.77, 3.1, 0.65, 0.07, 2.63, 2.2, 0.14, 2.9, 0.95, 2.88, 0.03, 0.08, 1.38, 3.32, 0.09, 2.87, 0.01, 0.1, 0.45, 4.29, 1.57, 6.77, 3.08, 1.41, 3.3, 0.67, 1.99, 2.68, 4.15, 0.07, 1.38, 2.6, 2.81, 2.1, 4.29, 2.54, 2.94, 0.07, 2.81, 0.58, 1.75, 0.17, 0.17, 2.05, 1.44, 1.86, 1.94, 1.38]\n",
    "tree_model_2_1_exe_time=132.2784\n",
    "tree_model_2_1_exe_time_list=[2.21, 3.52, 1.5, 2.97, 1.55, 1.59, 2.48, 0.8, 4.37, 1.06, 1.42, 0.95, 1.4, 3.22, 0.59, 0.2, 3.1, 2.26, 0.27, 2.71, 1.08, 12.66, 0.14, 0.2, 1.69, 5.27, 0.58, 2.93, 0.88, 0.07, 0.36, 3.87, 1.98, 5.85, 2.24, 1.39, 3.79, 0.79, 2.09, 2.87, 4.87, 0.2, 1.58, 2.83, 2.71, 1.58, 1.23, 2.51, 6.79, 0.15, 3.13, 0.68, 2.69, 0.17, 0.16, 2.22, 1.45, 3.12, 3.64, 1.65]"
   ]
  },
  {
   "cell_type": "code",
   "execution_count": 12,
   "metadata": {},
   "outputs": [],
   "source": [
    "noindex_sum=148.12\n",
    "no_index_query_exe_time_list=[2.21, 4.25, 1.78, 2.88, 1.61, 1.72, 2.43, 0.98, 5.35, 1.35, 2.17, 1.07, 8.36, 3.04, 0.93, 0.22, 3.06, 2.57, 0.44, 3.0, 0.98, 4.4, 3.32, 0.24, 1.63, 4.4, 0.34, 2.87, 0.19, 0.22, 4.56, 0.2, 1.58, 3.71, 2.98, 1.98, 4.03, 2.43, 10.32, 0.4, 2.93, 0.55, 4.57, 0.17, 0.16, 2.37, 1.46, 3.18, 2.9, 1.62, 1.79, 2.55, 3.15, 1.01, 3.26, 2.76, 3.77, 1.23, 2.75, 5.74]\n",
    "\n",
    "whatif_1_1_exe_time=156.4226\n",
    "whatif_1_1_exe_time_list=[2.07, 3.42, 1.85, 2.55, 1.56, 1.54, 2.4, 0.88, 3.23, 1.06, 1.42, 1.03, 1.45, 2.85, 0.85, 0.07, 2.95, 2.43, 0.16, 6.66, 0.85, 5.42, 0.22, 0.07, 1.77, 3.14, 0.28, 3.43, 0.19, 0.22, 4.55, 0.08, 1.57, 5.37, 3.4, 1.72, 4.51, 2.53, 3.5, 0.39, 2.8, 0.46, 28.68, 0.18, 0.16, 2.27, 1.51, 2.72, 6.21, 1.65, 1.86, 2.07, 1.51, 0.86, 3.28, 2.81, 4.0, 1.11, 2.61, 6.03]\n",
    "lib_1_1_exe_time=189.2689\n",
    "lib_1_1_exe_time_list=[2.88, 4.47, 1.61, 2.42, 1.42, 0.25, 2.36, 0.83, 0.76, 0.87, 1.04, 0.87, 7.24, 1.3, 0.58, 0.2, 1.42, 0.33, 0.55, 2.75, 1.05, 13.36, 0.16, 0.2, 0.28, 4.21, 0.09, 2.75, 0.02, 0.08, 4.78, 0.23, 0.24, 1.28, 2.76, 0.45, 1.44, 2.65, 78.8, 0.16, 2.99, 0.47, 2.71, 0.17, 0.16, 0.6, 1.46, 2.16, 3.61, 0.25, 1.85, 1.26, 1.32, 0.81, 3.07, 2.32, 3.63, 1.36, 2.53, 7.39]\n",
    "tree_model_1_1_exe_time=209.6523\n",
    "tree_model_1_1_exe_time_list=[2.79, 4.16, 2.14, 1.45, 1.73, 0.18, 2.33, 0.89, 3.49, 1.05, 2.18, 1.11, 2.69, 3.26, 0.95, 0.22, 1.53, 0.78, 0.49, 11.82, 0.93, 4.26, 0.33, 0.23, 0.19, 3.54, 0.36, 2.07, 0.19, 0.21, 3.49, 0.22, 0.18, 1.68, 2.01, 2.68, 4.28, 2.07, 77.37, 0.52, 2.93, 0.56, 27.93, 0.17, 0.17, 2.37, 1.45, 1.42, 2.38, 0.18, 1.75, 1.13, 1.59, 0.88, 1.51, 0.92, 2.31, 1.17, 1.03, 5.72]\n"
   ]
  },
  {
   "cell_type": "code",
   "execution_count": 13,
   "metadata": {},
   "outputs": [],
   "source": [
    "noindex_sum=166.67\n",
    "no_index_query_exe_time_list=[2.19, 4.22, 1.71, 2.99, 1.57, 1.72, 2.32, 18.31, 5.53, 1.38, 2.07, 1.63, 8.36, 3.07, 0.85, 0.23, 3.14, 2.71, 0.51, 3.13, 5.18, 0.22, 1.63, 3.89, 2.96, 2.02, 4.27, 2.44, 11.66, 0.39, 2.94, 0.65, 2.41, 0.17, 0.83, 2.33, 1.49, 2.75, 2.89, 1.64, 1.74, 2.44, 3.24, 0.96, 3.2, 2.71, 3.74, 1.26, 2.66, 6.08, 1.39, 2.63, 0.31, 0.48, 3.92, 1.08, 4.49, 0.36, 2.1, 1.49]\n",
    "\n",
    "whatif_1_2_exe_time=157.40\n",
    "whatif_1_2_exe_time_list=[2.67, 3.52, 1.59, 2.32, 1.44, 1.5, 2.09, 0.79, 4.32, 0.9, 1.32, 0.88, 1.34, 2.65, 0.62, 0.21, 2.79, 2.41, 0.45, 3.4, 4.44, 0.21, 1.27, 2.84, 2.7, 1.66, 1.27, 2.46, 3.63, 0.14, 2.83, 0.57, 35.86, 0.18, 0.85, 2.08, 1.47, 3.99, 3.11, 1.36, 1.88, 2.27, 1.43, 0.79, 2.97, 2.71, 3.61, 1.36, 2.43, 6.7, 1.29, 2.34, 0.39, 0.29, 7.21, 0.92, 4.53, 0.09, 1.59, 2.44]\n",
    "lib_1_2_exe_time=4107.7389\n",
    "lib_1_2_exe_time_list=[3.0, 4.26, 2.11, 2.97, 1.53, 9.26, 1.65, 18.52, 0.74, 1.06, 0.35, 1.03, 0.18, 1.23, 0.83, 0.22, 1.38, 374.12, 0.57, 592.25, 5.19, 0.21, 0.57, 1.51, 7.86, 0.31, 1.24, 1.03, 74.75, 0.34, 2.89, 0.54, 2.64, 0.17, 0.86, 0.46, 1.48, 55.92, 214.87, 0.44, 1.66, 1.11, 1.5, 0.99, 116.22, 24.75, 522.31, 1.45, 2.89, 7.16, 1.35, 181.97, 0.33, 0.29, 1794.75, 1.12, 4.91, 0.23, 50.67, 1.51]\n",
    "tree_model_1_2_exe_time=809.9958\n",
    "tree_model_1_2_exe_time_list=[2.68, 4.24, 1.38, 2.19, 1.42, 0.27, 1.62, 24.95, 0.73, 0.78, 0.3, 67.51, 1.26, 1.16, 0.65, 0.07, 32.83, 0.4, 0.22, 44.43, 4.19, 0.07, 0.27, 1.28, 2.86, 0.36, 4.25, 2.52, 432.59, 0.08, 3.07, 0.6, 1.76, 0.17, 0.17, 0.48, 1.48, 1.94, 2.39, 0.25, 1.77, 1.26, 1.28, 37.73, 6.08, 2.63, 10.93, 1.1, 2.22, 6.52, 1.22, 2.57, 0.13, 0.5, 74.8, 1.01, 5.12, 0.18, 1.6, 1.51]\n"
   ]
  },
  {
   "cell_type": "code",
   "execution_count": null,
   "metadata": {},
   "outputs": [
    {
     "data": {
      "text/plain": [
       "483.19819999999993"
      ]
     },
     "execution_count": 22,
     "metadata": {},
     "output_type": "execute_result"
    }
   ],
   "source": [
    "lib_1_3_exe_time=483.19\n",
    "lib_1_3_exe_time_list=[2.8298, 4.3208, 1.8106, 2.8723, 1.5014, 8.6781, 1.6759, 0.8918, 0.7081, 1.0231, 0.3177, 0.9569, 0.1919, 1.382, 0.8922, 4.5166, 0.1992, 0.6567, 1.3246, 21.9419, 0.3621, 3.83, 2.3519, 3.1566, 0.3361, 2.8244, 0.5177, 2.2016, 0.166, 0.8199, 0.461, 1.4131, 56.389, 100, 0.4582, 1.7036, 1.1134, 1.5274, 0.9346, 100, 100, 4.03, 1.19, 2.89, 6.03, 1.38, 2.54, 0.32, 0.45, 3.58, 1.09, 4.89, 0.36, 2.9, 1.54, 3.85, 0.85, 3.08, 1.37, 1.6]\n",
    "sum(lib_1_3_exe_time_list)"
   ]
  },
  {
   "cell_type": "code",
   "execution_count": 14,
   "metadata": {},
   "outputs": [],
   "source": [
    "cnt=0\n",
    "for i in tree_model_3_1_exe_time_list:\n",
    "    if i>30:\n",
    "        print(cnt,i)\n",
    "    cnt+=1"
   ]
  },
  {
   "cell_type": "code",
   "execution_count": 16,
   "metadata": {},
   "outputs": [
    {
     "name": "stdout",
     "output_type": "stream",
     "text": [
      "[100, 4.03, 1.19, 2.89, 6.03, 1.38, 2.54, 0.32, 0.45, 3.58, 1.09, 4.89, 0.36, 2.9, 1.54, 3.85, 0.85, 3.08, 1.37, 1.6]\n"
     ]
    }
   ],
   "source": [
    "print(exe_time_list)\n",
    "# print(no_index_exe_time_list)"
   ]
  },
  {
   "cell_type": "code",
   "execution_count": null,
   "metadata": {},
   "outputs": [
    {
     "data": {
      "text/plain": [
       "148.12000000000003"
      ]
     },
     "execution_count": 15,
     "metadata": {},
     "output_type": "execute_result"
    }
   ],
   "source": [
    "no_index_query_exe_time_list=[2.21, 4.25, 1.78, 2.88, 1.61, 1.72, 2.43, 0.98, 5.35, 1.35, 2.17, 1.07, 8.36, 3.04, 0.93, 0.22, 3.06, 2.57, 0.44, 3.0, 0.98, 4.4, 3.32, 0.24, 1.63, 4.4, 0.34, 2.87, 0.19, 0.22, 4.56, 0.2, 1.58, 3.71, 2.98, 1.98, 4.03, 2.43, 10.32, 0.4, 2.93, 0.55, 4.57, 0.17, 0.16, 2.37, 1.46, 3.18, 2.9, 1.62, 1.79, 2.55, 3.15, 1.01, 3.26, 2.76, 3.77, 1.23, 2.75, 5.74]\n",
    "sum(no_index_query_exe_time_list)"
   ]
  },
  {
   "cell_type": "code",
   "execution_count": null,
   "metadata": {},
   "outputs": [
    {
     "name": "stdout",
     "output_type": "stream",
     "text": [
      "[2.21, 4.25, 1.78, 2.88, 1.61, 1.72, 2.43, 0.98, 5.35, 1.35, 2.17, 1.07, 8.36, 3.04, 0.93, 0.22, 3.06, 2.57, 0.44, 3.0, 0.98, 4.4, 3.32, 0.24, 1.63, 4.4, 0.34, 2.87, 0.19, 0.22, 4.56, 0.2, 1.58, 3.71, 2.98, 1.98, 4.03, 2.43, 10.32, 0.4, 2.93, 0.55, 4.57, 0.17, 0.16, 2.37, 1.46, 3.18, 2.9, 1.62, 1.79, 2.55, 3.15, 1.01, 3.26, 2.76, 3.77, 1.23, 2.75, 5.74]\n"
     ]
    }
   ],
   "source": [
    "print(no_index_query_exe_time_list)"
   ]
  },
  {
   "cell_type": "code",
   "execution_count": null,
   "metadata": {},
   "outputs": [],
   "source": []
  }
 ],
 "metadata": {
  "kernelspec": {
   "display_name": "test",
   "language": "python",
   "name": "python3"
  },
  "language_info": {
   "codemirror_mode": {
    "name": "ipython",
    "version": 3
   },
   "file_extension": ".py",
   "mimetype": "text/x-python",
   "name": "python",
   "nbconvert_exporter": "python",
   "pygments_lexer": "ipython3",
   "version": "3.8.19"
  }
 },
 "nbformat": 4,
 "nbformat_minor": 2
}
