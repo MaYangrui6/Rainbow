{
 "cells": [
  {
   "cell_type": "code",
   "execution_count": 10,
   "metadata": {},
   "outputs": [
    {
     "data": {
      "text/plain": [
       "50"
      ]
     },
     "execution_count": 10,
     "metadata": {},
     "output_type": "execute_result"
    }
   ],
   "source": [
    "def extract_sql_from_file(file_path):\n",
    "    with open(file_path, 'r') as file:\n",
    "        sql_commands = file.read().split(';')  # 将文件内容按分号分割成多个 SQL 语句\n",
    "        # 去除空白项并去除换行符\n",
    "        sql_commands = [sql.strip() for sql in sql_commands if sql.strip()]\n",
    "    return sql_commands\n",
    "\n",
    "\n",
    "# 调用函数提取 SQL 语句\n",
    "queries_list = extract_sql_from_file('/home/ubuntu/project/mayang/LOGER/experiment/job/first_50_queries.sql')\n",
    "len(queries_list)"
   ]
  },
  {
   "cell_type": "code",
   "execution_count": 2,
   "metadata": {},
   "outputs": [],
   "source": [
    "# def extract_sql_from_file(file_path):\n",
    "#     with open(file_path, 'r') as file:\n",
    "#         sql_commands = file.read().split(';')  # 将文件内容按分号分割成多个 SQL 语句\n",
    "#         # 去除空白项并去除换行符\n",
    "#         sql_commands = [sql.strip() for sql in sql_commands if sql.strip()]\n",
    "#     return sql_commands\n",
    "\n",
    "# def save_queries_to_file(queries, output_file_path):\n",
    "#     with open(output_file_path, 'w') as file:\n",
    "#         for query in queries:\n",
    "#             file.write(query + ';\\n')  # 在每个查询后添加分号\n",
    "\n",
    "# # 提取 SQL 语句\n",
    "# queries_list = extract_sql_from_file('/home/ubuntu/project/index_selection_evaluation/queries/tpch/tpch_queries.sql')\n",
    "\n",
    "# # 提取前10个查询\n",
    "# first_10_queries = queries_list[:16]\n",
    "\n",
    "# # 保存到新的 SQL 文件\n",
    "# save_queries_to_file(first_10_queries, '/home/ubuntu/project/mayang/LOGER/experiment/tpch/first_100_queries.sql')\n"
   ]
  },
  {
   "cell_type": "code",
   "execution_count": 3,
   "metadata": {},
   "outputs": [],
   "source": [
    "index_configs_workload_10_tpcds1_rainbow=\"[I(C customer_address.ca_city), I(C catalog_sales.cs_sold_date_sk), I(C date_dim.d_year), I(C household_demographics.hd_dep_count), I(C store_returns.sr_cdemo_sk), I(C time_dim.t_hour), I(C web_sales.ws_sold_date_sk), I(C catalog_sales.cs_sold_date_sk,C catalog_sales.cs_item_sk), I(C date_dim.d_year,C date_dim.d_date), I(C item.i_item_id,C item.i_item_sk), I(C item.i_item_sk,C item.i_manufact_id), I(C item.i_manufact_id,C item.i_current_price), I(C inventory.inv_date_sk,C inventory.inv_item_sk), I(C store_sales.ss_item_sk,C store_sales.ss_sold_date_sk), I(C store_sales.ss_store_sk,C store_sales.ss_sold_time_sk)]\"\n",
    "index_configs_workload_10_tpcds1_whatif=\"[I(C customer_address.ca_city), I(C customer_demographics.cd_demo_sk), I(C catalog_sales.cs_sold_date_sk), I(C date_dim.d_year), I(C household_demographics.hd_demo_sk), I(C household_demographics.hd_dep_count), I(C store_returns.sr_cdemo_sk), I(C time_dim.t_hour), I(C catalog_sales.cs_item_sk,C catalog_sales.cs_sold_date_sk), I(C date_dim.d_date_sk,C date_dim.d_year), I(C item.i_manufact_id,C item.i_current_price), I(C inventory.inv_date_sk,C inventory.inv_item_sk), I(C promotion.p_promo_sk,C promotion.p_channel_event), I(C store_sales.ss_sold_date_sk,C store_sales.ss_item_sk), I(C store_sales.ss_store_sk,C store_sales.ss_sold_time_sk)]\"\n",
    "index_configs_workload_50_tpcds1_rainbow=\"[I(C customer_address.ca_city), I(C catalog_sales.cs_item_sk), I(C catalog_sales.cs_sold_date_sk), I(C item.i_item_sk), I(C store_returns.sr_cdemo_sk), I(C time_dim.t_hour), I(C web_sales.ws_sold_date_sk), I(C catalog_sales.cs_item_sk,C catalog_sales.cs_sold_date_sk), I(C date_dim.d_date,C date_dim.d_date_sk), I(C date_dim.d_date,C date_dim.d_month_seq), I(C date_dim.d_date_sk,C date_dim.d_date), I(C date_dim.d_date_sk,C date_dim.d_month_seq), I(C date_dim.d_month_seq,C date_dim.d_date_sk), I(C date_dim.d_month_seq,C date_dim.d_year), I(C date_dim.d_year,C date_dim.d_date), I(C item.i_item_id,C item.i_item_sk), I(C item.i_item_id,C item.i_manufact_id), I(C item.i_manufact_id,C item.i_current_price), I(C inventory.inv_date_sk,C inventory.inv_item_sk), I(C store.s_store_sk,C store.s_city), I(C store_sales.ss_item_sk,C store_sales.ss_sales_price), I(C store_sales.ss_store_sk,C store_sales.ss_sold_time_sk), I(C store_sales.ss_ticket_number,C store_sales.ss_item_sk)]\"\n",
    "index_configs_workload_50_tpcds1_whatif=\"[I(C customer_address.ca_zip), I(C customer_demographics.cd_demo_sk), I(C catalog_page.cp_catalog_page_sk), I(C catalog_returns.cr_order_number), I(C catalog_returns.cr_returned_date_sk), I(C catalog_sales.cs_order_number), I(C catalog_sales.cs_ship_date_sk), I(C date_dim.d_quarter_name), I(C date_dim.d_week_seq), I(C household_demographics.hd_demo_sk), I(C item.i_item_id), I(C inventory.inv_date_sk), I(C store.s_store_sk), I(C store_returns.sr_return_amt), I(C store_sales.ss_item_sk), I(C store_sales.ss_net_profit), I(C store_sales.ss_quantity), I(C store_sales.ss_sales_price), I(C store_sales.ss_store_sk), I(C customer_address.ca_address_sk,C customer_address.ca_zip), I(C catalog_returns.cr_order_number,C catalog_returns.cr_item_sk), I(C catalog_returns.cr_order_number,C catalog_returns.cr_returned_date_sk), I(C catalog_sales.cs_ship_date_sk,C catalog_sales.cs_order_number), I(C date_dim.d_date_sk,C date_dim.d_year), I(C date_dim.d_dom,C date_dim.d_moy), I(C household_demographics.hd_buy_potential,C household_demographics.hd_vehicle_count), I(C item.i_category,C item.i_manufact_id), I(C item.i_manufact_id,C item.i_current_price), I(C inventory.inv_date_sk,C inventory.inv_item_sk), I(C promotion.p_promo_sk,C promotion.p_channel_email), I(C store_returns.sr_returned_date_sk,C store_returns.sr_ticket_number), I(C store_returns.sr_ticket_number,C store_returns.sr_item_sk), I(C store_sales.ss_customer_sk,C store_sales.ss_item_sk), I(C store_sales.ss_hdemo_sk,C store_sales.ss_store_sk), I(C store_sales.ss_item_sk,C store_sales.ss_sold_date_sk), I(C store_sales.ss_item_sk,C store_sales.ss_ticket_number), I(C warehouse.w_warehouse_sk,C warehouse.w_state), I(C web_sales.ws_item_sk,C web_sales.ws_order_number)]\"\n",
    "index_configs_workload_100_tpcds1_rainbow=\"[I(C customer.c_customer_sk), I(C catalog_returns.cr_returned_date_sk), I(C catalog_sales.cs_sold_date_sk), I(C date_dim.d_date), I(C date_dim.d_month_seq), I(C household_demographics.hd_dep_count), I(C item.i_item_sk), I(C store_returns.sr_cdemo_sk), I(C time_dim.t_hour), I(C web_sales.ws_sold_date_sk), I(C catalog_sales.cs_item_sk,C catalog_sales.cs_ship_date_sk), I(C date_dim.d_date,C date_dim.d_year), I(C date_dim.d_date_sk,C date_dim.d_date), I(C date_dim.d_date_sk,C date_dim.d_year), I(C item.i_item_id,C item.i_manufact_id), I(C item.i_item_sk,C item.i_manufact_id), I(C item.i_manufact_id,C item.i_current_price), I(C inventory.inv_date_sk,C inventory.inv_item_sk), I(C store_sales.ss_item_sk,C store_sales.ss_sales_price), I(C store_sales.ss_item_sk,C store_sales.ss_ticket_number), I(C store_sales.ss_store_sk,C store_sales.ss_sold_time_sk)]\"\n",
    "index_configs_workload_100_tpcds1_whatif=\"[I(C customer.c_customer_sk), I(C customer_address.ca_address_sk), I(C customer_address.ca_city), I(C customer_demographics.cd_demo_sk), I(C catalog_returns.cr_returned_date_sk), I(C catalog_sales.cs_ship_date_sk), I(C catalog_sales.cs_sold_date_sk), I(C date_dim.d_month_seq), I(C date_dim.d_year), I(C household_demographics.hd_demo_sk), I(C household_demographics.hd_dep_count), I(C promotion.p_promo_sk), I(C store_returns.sr_cdemo_sk), I(C time_dim.t_hour), I(C web_sales.ws_sold_date_sk), I(C customer_address.ca_city,C customer_address.ca_address_sk), I(C date_dim.d_date_sk,C date_dim.d_month_seq), I(C date_dim.d_date_sk,C date_dim.d_year), I(C date_dim.d_year,C date_dim.d_date_sk), I(C store.s_store_sk,C store.s_street_name), I(C store_sales.ss_item_sk,C store_sales.ss_sold_date_sk), I(C store_sales.ss_store_sk,C store_sales.ss_sold_time_sk), I(C store_sales.ss_ticket_number,C store_sales.ss_item_sk)]\""
   ]
  },
  {
   "cell_type": "code",
   "execution_count": 4,
   "metadata": {},
   "outputs": [],
   "source": [
    "index_configs_workload_10_tpcds10_whatif=\"[I(C customer.c_customer_id), I(C customer_address.ca_address_sk), I(C customer_demographics.cd_demo_sk), I(C catalog_sales.cs_item_sk), I(C date_dim.d_year), I(C household_demographics.hd_demo_sk), I(C household_demographics.hd_dep_count), I(C promotion.p_promo_sk), I(C store_returns.sr_cdemo_sk), I(C store_sales.ss_item_sk), I(C time_dim.t_hour), I(C item.i_manufact_id,C item.i_current_price), I(C income_band.ib_income_band_sk,C income_band.ib_upper_bound), I(C store_sales.ss_item_sk,C store_sales.ss_sold_date_sk)]\"\n",
    "index_configs_workload_50_tpcds10_whatif=\"[I(C catalog_sales.cs_item_sk), I(C catalog_sales.cs_sold_date_sk), I(C date_dim.d_date_sk), I(C date_dim.d_month_seq), I(C date_dim.d_year), I(C household_demographics.hd_dep_count), I(C item.i_item_id), I(C item.i_item_sk), I(C promotion.p_promo_sk), I(C store_sales.ss_item_sk), I(C time_dim.t_hour), I(C web_sales.ws_sold_date_sk), I(C catalog_sales.cs_item_sk,C catalog_sales.cs_sold_date_sk), I(C date_dim.d_date_sk,C date_dim.d_date), I(C item.i_item_id,C item.i_manufact_id), I(C item.i_item_sk,C item.i_manufact_id), I(C item.i_manufact_id,C item.i_current_price), I(C store.s_store_sk,C store.s_street_name), I(C store_sales.ss_item_sk,C store_sales.ss_customer_sk), I(C store_sales.ss_item_sk,C store_sales.ss_sold_date_sk)]\"\n",
    "index_configs_workload_100_tpcds10_whatif=\"[I(C customer.c_customer_id), I(C customer.c_customer_sk), I(C customer_address.ca_address_sk), I(C customer_demographics.cd_demo_sk), I(C catalog_returns.cr_returned_date_sk), I(C catalog_sales.cs_ship_date_sk), I(C catalog_sales.cs_sold_date_sk), I(C date_dim.d_month_seq), I(C date_dim.d_year), I(C household_demographics.hd_demo_sk), I(C household_demographics.hd_dep_count), I(C promotion.p_promo_sk), I(C store_returns.sr_cdemo_sk), I(C store_sales.ss_item_sk), I(C time_dim.t_hour), I(C web_sales.ws_sold_date_sk), I(C date_dim.d_date_sk,C date_dim.d_month_seq), I(C income_band.ib_income_band_sk,C income_band.ib_upper_bound), I(C store.s_store_sk,C store.s_street_type), I(C store_sales.ss_item_sk,C store_sales.ss_customer_sk), I(C store_sales.ss_item_sk,C store_sales.ss_sold_date_sk)]\"\n",
    "index_configs_workload_10_tpcds10_rainbow=\"[I(C catalog_sales.cs_item_sk), I(C store_returns.sr_cdemo_sk), I(C date_dim.d_year), I(C item.i_item_sk,C item.i_manufact_id), I(C store_sales.ss_item_sk), I(C household_demographics.hd_dep_count), I(C household_demographics.hd_dep_count,C household_demographics.hd_demo_sk), I(C date_dim.d_date_sk,C date_dim.d_year), I(C item.i_manufact_id,C item.i_current_price), I(C web_sales.ws_sold_date_sk), I(C store_sales.ss_item_sk,C store_sales.ss_sold_date_sk), I(C item.i_item_sk)]\"\n",
    "index_configs_workload_50_tpcds10_rainbow=\"[I(C date_dim.d_date_sk,C date_dim.d_date), I(C store_sales.ss_item_sk,C store_sales.ss_sales_price), I(C item.i_manufact_id,C item.i_current_price), I(C date_dim.d_month_seq,C date_dim.d_date_sk), I(C date_dim.d_month_seq,C date_dim.d_year), I(C catalog_sales.cs_item_sk), I(C store_returns.sr_cdemo_sk), I(C household_demographics.hd_dep_count,C household_demographics.hd_demo_sk), I(C customer_address.ca_address_sk), I(C web_sales.ws_sold_date_sk), I(C date_dim.d_year,C date_dim.d_date_sk), I(C catalog_sales.cs_sold_date_sk), I(C time_dim.t_hour), I(C store_sales.ss_item_sk,C store_sales.ss_ticket_number)]\"\n",
    "index_configs_workload_100_tpcds10_rainbow=\"[I(C customer.c_customer_sk), I(C customer_address.ca_address_sk), I(C catalog_returns.cr_returned_date_sk), I(C catalog_sales.cs_item_sk), I(C catalog_sales.cs_ship_date_sk), I(C catalog_sales.cs_sold_date_sk), I(C date_dim.d_date_sk), I(C date_dim.d_month_seq), I(C household_demographics.hd_dep_count), I(C store_returns.sr_cdemo_sk), I(C web_sales.ws_sold_date_sk), I(C catalog_sales.cs_item_sk,C catalog_sales.cs_ship_date_sk), I(C catalog_sales.cs_sold_date_sk,C catalog_sales.cs_item_sk), I(C catalog_sales.cs_sold_date_sk,C catalog_sales.cs_ship_date_sk), I(C date_dim.d_year,C date_dim.d_month_seq), I(C item.i_manufact_id,C item.i_current_price), I(C income_band.ib_income_band_sk,C income_band.ib_upper_bound), I(C store.s_store_sk,C store.s_city), I(C store_sales.ss_customer_sk,C store_sales.ss_ticket_number), I(C store_sales.ss_item_sk,C store_sales.ss_customer_sk)]\""
   ]
  },
  {
   "cell_type": "code",
   "execution_count": null,
   "metadata": {},
   "outputs": [],
   "source": [
    "index_configs_workload_10_job_rainbow=\"[I(C company_type.id), I(C keyword.keyword), I(C company_name.id), I(C company_name.id,C company_name.country_code), I(C link_type.id,C link_type.link), I(C movie_info.movie_id), I(C title.id), I(C char_name.id), I(C movie_companies.company_id), I(C cast_info.movie_id), I(C movie_keyword.keyword_id), I(C company_type.id,C company_type.kind), I(C movie_companies.movie_id,C movie_companies.note)]\"\n",
    "index_configs_workload_50_job_rainbow=\"[I(C cast_info.role_id,C cast_info.note), I(C cast_info.movie_id,C cast_info.role_id), I(C movie_info.movie_id), I(C movie_keyword.movie_id,C movie_keyword.keyword_id), I(C keyword.id,C keyword.keyword), I(C movie_companies.movie_id), I(C cast_info.person_id,C cast_info.note)]\"\n",
    "index_configs_workload_100_job_rainbow=\"[I(C movie_companies.movie_id,C movie_companies.note), I(C name.gender), I(C movie_keyword.movie_id), I(C movie_info.movie_id), I(C title.production_year), I(C cast_info.movie_id,C cast_info.note), I(C cast_info.role_id,C cast_info.note), I(C char_name.id,C char_name.name), I(C cast_info.note,C cast_info.person_id), I(C keyword.keyword,C keyword.id)]\"\n",
    "index_configs_workload_10_job_whatif=\"[I(C movie_keyword.keyword_id), I(C keyword.keyword,C keyword.id), I(C cast_info.movie_id), I(C movie_companies.movie_id,C movie_companies.note)]\"\n",
    "index_configs_workload_50_job_whatif=\"[I(C movie_companies.company_id,C movie_companies.movie_id), I(C aka_name.person_id), I(C cast_info.role_id,C cast_info.note), I(C name.gender), I(C cast_info.note,C cast_info.person_id)]\"\n",
    "index_configs_workload_100_job_whatif=\"[I(C title.production_year,C title.id), I(C cast_info.note,C cast_info.person_id), I(C movie_companies.movie_id,C movie_companies.company_id), I(C movie_info_idx.info_type_id,C movie_info_idx.info), I(C complete_cast.status_id,C complete_cast.movie_id), I(C movie_companies.company_id), I(C company_name.country_code), I(C cast_info.role_id,C cast_info.note), I(C name.gender), I(C movie_link.link_type_id), I(C kind_type.kind,C kind_type.id)]\"\n"
   ]
  },
  {
   "cell_type": "code",
   "execution_count": 6,
   "metadata": {},
   "outputs": [],
   "source": [
    "\n",
    "index_configs_workload_10_tpch_whatif=\"[I(C lineitem.l_orderkey), I(C lineitem.l_suppkey), I(C orders.o_orderdate), I(C supplier.s_nationkey,C supplier.s_suppkey)]\"\n",
    "index_configs_workload_50_tpch_whatif=\"[I(C supplier.s_suppkey), I(C lineitem.l_orderkey), I(C part.p_type), I(C lineitem.l_suppkey,C lineitem.l_partkey), I(C orders.o_orderkey), I(C customer.c_custkey), I(C orders.o_orderdate)]\"\n",
    "index_configs_workload_100_tpch_whatif=\"[I(C partsupp.ps_partkey), I(C partsupp.ps_suppkey), I(C part.p_size), I(C part.p_type), I(C customer.c_custkey), I(C lineitem.l_shipdate), I(C orders.o_orderdate), I(C orders.o_custkey), I(C part.p_brand,C part.p_container), I(C lineitem.l_partkey)]\"\n",
    "index_configs_workload_10_tpch_rainbow=\"[I(C orders.o_orderdate), I(C supplier.s_nationkey,C supplier.s_suppkey), I(C lineitem.l_orderkey,C lineitem.l_suppkey)]\"\n",
    "index_configs_workload_50_tpch_rainbow=\"[I(C orders.o_orderdate), I(C part.p_type), I(C supplier.s_suppkey,C supplier.s_nationkey), I(C lineitem.l_orderkey,C lineitem.l_shipdate), I(C supplier.s_suppkey), I(C lineitem.l_partkey,C lineitem.l_shipdate), I(C lineitem.l_partkey,C lineitem.l_suppkey), I(C supplier.s_nationkey), I(C partsupp.ps_suppkey), I(C orders.o_custkey,C orders.o_orderdate)]\""
   ]
  },
  {
   "cell_type": "code",
   "execution_count": null,
   "metadata": {},
   "outputs": [],
   "source": [
    "extend_index_configs_workload_10_tpcds_10_rainbow=\"[I(C store.s_store_sk), I(C item.i_manager_id,C item.i_manufact_id), I(C item.i_current_price,C item.i_manager_id), I(C item.i_manager_id), I(C customer_demographics.cd_marital_status,C customer_demographics.cd_gender), I(C web_sales.ws_sold_date_sk), I(C catalog_sales.cs_item_sk), I(C store_returns.sr_cdemo_sk), I(C promotion.p_channel_event,C promotion.p_promo_sk), I(C store_sales.ss_sold_date_sk,C store_sales.ss_item_sk), I(C date_dim.d_year,C date_dim.d_moy), I(C catalog_sales.cs_sold_date_sk), I(C promotion.p_channel_email,C promotion.p_channel_event), I(C customer_demographics.cd_gender)]\"\n"
   ]
  },
  {
   "cell_type": "code",
   "execution_count": 9,
   "metadata": {},
   "outputs": [
    {
     "name": "stdout",
     "output_type": "stream",
     "text": [
      "CREATEING INDEX ON company_type (id)\n",
      "CREATEING INDEX ON keyword (keyword)\n",
      "CREATEING INDEX ON company_name (id)\n",
      "CREATEING INDEX ON company_name (id,country_code)\n",
      "CREATEING INDEX ON link_type (id,link)\n",
      "CREATEING INDEX ON movie_info (movie_id)\n",
      "CREATEING INDEX ON title (id)\n",
      "CREATEING INDEX ON char_name (id)\n",
      "CREATEING INDEX ON movie_companies (company_id)\n",
      "CREATEING INDEX ON cast_info (movie_id)\n",
      "CREATEING INDEX ON movie_keyword (keyword_id)\n",
      "CREATEING INDEX ON company_type (id,kind)\n",
      "CREATEING INDEX ON movie_companies (movie_id,note)\n",
      "Query 1: executed in 0.2442 seconds\n",
      "Query 2: executed in 0.1147 seconds\n",
      "Query 3: executed in 2.7415 seconds\n",
      "Query 4: executed in 0.0240 seconds\n",
      "Query 5: executed in 0.0504 seconds\n",
      "Query 6: executed in 0.1184 seconds\n",
      "Query 7: executed in 0.0880 seconds\n",
      "Query 8: executed in 0.1889 seconds\n",
      "Query 9: executed in 0.0701 seconds\n",
      "Query 10: executed in 0.6176 seconds\n",
      "Total execution time for workload: 4.2577 s\n",
      "DROPING INDEX IF EXISTS I(C company_type.id)\n",
      "DROPING INDEX IF EXISTS I(C keyword.keyword)\n",
      "DROPING INDEX IF EXISTS I(C company_name.id)\n",
      "DROPING INDEX IF EXISTS I(C company_name.id,C company_name.country_code)\n",
      "DROPING INDEX IF EXISTS I(C link_type.id,C link_type.link)\n",
      "DROPING INDEX IF EXISTS I(C movie_info.movie_id)\n",
      "DROPING INDEX IF EXISTS I(C title.id)\n",
      "DROPING INDEX IF EXISTS I(C char_name.id)\n",
      "DROPING INDEX IF EXISTS I(C movie_companies.company_id)\n",
      "DROPING INDEX IF EXISTS I(C cast_info.movie_id)\n",
      "DROPING INDEX IF EXISTS I(C movie_keyword.keyword_id)\n",
      "DROPING INDEX IF EXISTS I(C company_type.id,C company_type.kind)\n",
      "DROPING INDEX IF EXISTS I(C movie_companies.movie_id,C movie_companies.note)\n"
     ]
    }
   ],
   "source": [
    "import psycopg2\n",
    "import re\n",
    "import json\n",
    "import time\n",
    "\n",
    "class RealIndex:\n",
    "    def __init__(self, index_config):\n",
    "        self.index_config = index_config.strip()\n",
    "    \n",
    "    def index_idx(self):\n",
    "        match = re.match(r'I\\(C\\s+(.*?)\\)', self.index_config)\n",
    "        if match:\n",
    "            column_names = match.group(1).split(',')\n",
    "            cleaned_column_names = [name.split('.')[-1].strip() for name in column_names]\n",
    "            columns = \"_\".join(self._column_names())\n",
    "            return f\"{self.table()}_{columns}_idx\"\n",
    "        else:\n",
    "            print('errot in index_idx')\n",
    "            return None\n",
    "        \n",
    "    def table(self):\n",
    "        start = self.index_config.find('(') + 1\n",
    "        end = self.index_config.find('.')\n",
    "        if start != -1 and end != -1:\n",
    "            return self.index_config[start:end].strip().split()[-1]\n",
    "        else:\n",
    "            return self.index_config.strip()\n",
    "\n",
    "    def joined_column_names(self):\n",
    "        match = re.match(r'I\\(C\\s+(.*?)\\)', self.index_config)\n",
    "        if match:\n",
    "            column_names = match.group(1).split(',')\n",
    "            cleaned_column_names = [name.split('.')[-1].strip() for name in column_names]\n",
    "            return ','.join(cleaned_column_names)\n",
    "        else:\n",
    "            return None\n",
    "        \n",
    "    def joined_column_drop_names(self):\n",
    "        match = re.match(r'I\\(C\\s+(.*?)\\)', self.index_config)\n",
    "        if match:\n",
    "            column_names = match.group(1).split(',')\n",
    "            cleaned_column_names = [name.split('.')[-1].strip() for name in column_names]\n",
    "            return '_'.join(cleaned_column_names)\n",
    "        else:\n",
    "            return None\n",
    "\n",
    "class QueryExecutor:\n",
    "    def __init__(self, dbname, user, password, host, port):\n",
    "        self.conn = psycopg2.connect(\n",
    "            dbname=dbname,\n",
    "            user=user,\n",
    "            password=password,\n",
    "            host=host,\n",
    "            port=port\n",
    "        )\n",
    "        self.cursor = self.conn.cursor()\n",
    "        \n",
    "    def exec_query(self, query):\n",
    "        query_text = query  # 直接使用传入的查询\n",
    "        start_time = time.time()\n",
    "        self.cursor.execute(query_text)\n",
    "        execution_time = time.time() - start_time\n",
    "        return execution_time\n",
    "\n",
    "    def exec_fetch(self, query):\n",
    "        with self.conn.cursor() as cur:\n",
    "            cur.execute(query)\n",
    "            # 如果是 DDL 语句（如 CREATE INDEX），则不返回结果\n",
    "            if query.startswith(\"CREATE\") or query.startswith(\"DROP\"):\n",
    "                return\n",
    "            return cur.fetchall()\n",
    "\n",
    "    def create_index(self, index):\n",
    "        print(f\"CREATEING INDEX ON {index.table()} ({index.joined_column_names()})\")\n",
    "        create_statement = f\"CREATE INDEX ON {index.table()} ({index.joined_column_names()})\"\n",
    "        self.exec_fetch(create_statement)\n",
    "\n",
    "    def drop_index(self, index):\n",
    "        print(f\"DROPING INDEX IF EXISTS {index.index_config}\")\n",
    "        drop_statement = f\"DROP INDEX IF EXISTS \"+f\"{index.table()}_{index.joined_column_drop_names()}_idx\"\n",
    "        self.exec_fetch(drop_statement)\n",
    "        \n",
    "    def execute_workload_and_measure_time(self, query_list):\n",
    "        total_execution_time = 0\n",
    "        for index, query in enumerate(query_list, start=1):\n",
    "            execution_time = self.exec_query(query)\n",
    "            total_execution_time += execution_time\n",
    "            print(f\"Query {index}: executed in {execution_time:.4f} seconds\")\n",
    "        return total_execution_time\n",
    "\n",
    "    def extract_execution_time(self, explain_result):\n",
    "        # 解析 EXPLAIN ANALYZE 的返回结果，提取执行时间\n",
    "        execution_time = 0\n",
    "        for line in explain_result:\n",
    "            plan = json.loads(line[0])\n",
    "            execution_time = plan['Total Time']  # 假设提取总时间\n",
    "        return execution_time\n",
    "\n",
    "    def close(self):\n",
    "        self.conn.close()\n",
    "\n",
    "def parse_index_configs(index_configs):\n",
    "    indexes = re.findall(r'I\\(C\\s*[^()]*\\)', index_configs)\n",
    "    parsed_indexes = []\n",
    "    for index in indexes:\n",
    "        parsed_indexes.append(RealIndex(index.strip()))\n",
    "    return parsed_indexes\n",
    "\n",
    "# 示例：使用提供的索引配置\n",
    "parsed_indexes = parse_index_configs(index_configs_workload_10_job_rainbow)\n",
    "\n",
    "# 数据库连接信息\n",
    "db_params = {\n",
    "    'dbname': 'imdbload',\n",
    "    'user': 'postgres',\n",
    "    'password': 'password',\n",
    "    'host': 'localhost',\n",
    "    'port': 5432\n",
    "}\n",
    "\n",
    "\n",
    "# 测试工作负载\n",
    "query_list = queries_list.copy()\n",
    "# 执行查询并测量时间\n",
    "executor = QueryExecutor(**db_params)\n",
    "\n",
    "# 创建索引\n",
    "for idx in parsed_indexes:\n",
    "    executor.create_index(idx)\n",
    "\n",
    "# 执行工作负载\n",
    "total_execution_time = executor.execute_workload_and_measure_time(query_list)\n",
    "print(f\"Total execution time for workload: {total_execution_time:.4f} s\")\n",
    "\n",
    "# 清理：删除索引\n",
    "for idx in parsed_indexes:\n",
    "    executor.drop_index(idx)\n",
    "\n",
    "executor.close()"
   ]
  },
  {
   "cell_type": "code",
   "execution_count": null,
   "metadata": {},
   "outputs": [
    {
     "data": {
      "text/plain": [
       "954.9864"
      ]
     },
     "execution_count": 17,
     "metadata": {},
     "output_type": "execute_result"
    }
   ],
   "source": [
    "159.1644*6"
   ]
  },
  {
   "cell_type": "code",
   "execution_count": null,
   "metadata": {},
   "outputs": [
    {
     "data": {
      "text/plain": [
       "452.36199999999997"
      ]
     },
     "execution_count": 14,
     "metadata": {},
     "output_type": "execute_result"
    }
   ],
   "source": [
    "90.4724*5"
   ]
  },
  {
   "cell_type": "code",
   "execution_count": null,
   "metadata": {},
   "outputs": [],
   "source": []
  }
 ],
 "metadata": {
  "kernelspec": {
   "display_name": "test",
   "language": "python",
   "name": "python3"
  },
  "language_info": {
   "codemirror_mode": {
    "name": "ipython",
    "version": 3
   },
   "file_extension": ".py",
   "mimetype": "text/x-python",
   "name": "python",
   "nbconvert_exporter": "python",
   "pygments_lexer": "ipython3",
   "version": "3.8.19"
  }
 },
 "nbformat": 4,
 "nbformat_minor": 2
}
