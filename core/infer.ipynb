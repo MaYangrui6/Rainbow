{
 "cells": [
  {
   "cell_type": "code",
   "execution_count": 1,
   "id": "89e40e90",
   "metadata": {},
   "outputs": [
    {
     "name": "stdout",
     "output_type": "stream",
     "text": [
      "DataLoader loaded from disk.\n"
     ]
    }
   ],
   "source": [
    "from train_bys import dgl_node_and_edge_vectorization,dgl_to_pyg,ImprovementPredictionModelGNN,database\n",
    "import torch\n",
    "import pickle\n",
    "import pandas as pd\n",
    "\n",
    "\n",
    "data_loader_file = '/tmp/tpcds_1_data_loader_gen.pkl'\n",
    "# 从磁盘加载DataLoader\n",
    "with open(data_loader_file, 'rb') as f:\n",
    "    data_loader = pickle.load(f)\n",
    "\n",
    "print('DataLoader loaded from disk.')"
   ]
  },
  {
   "cell_type": "code",
   "execution_count": 2,
   "id": "initial_id",
   "metadata": {
    "collapsed": true
   },
   "outputs": [],
   "source": [
    "def predict_query_improvement(sql, index_config, plan,model, attribute_dict, device):\n",
    "    \"\"\"\n",
    "    特征化 SQL 查询和索引配置，并使用保存的模型进行预测。\n",
    "\n",
    "    参数:\n",
    "    - sql (str): SQL 查询语句。\n",
    "    - index_config (str): 索引配置。\n",
    "    - model (nn.Module): 加载的模型。\n",
    "    - attribute_dict (dict): 属性字典，用于配置向量化。\n",
    "    - device (torch.device): 模型运行的设备。\n",
    "\n",
    "    返回:\n",
    "    - prediction (float): 预测的提升值。\n",
    "    \"\"\"\n",
    "    # 特征化 SQL 查询和索引配置\n",
    "    g = dgl_node_and_edge_vectorization(sql, index_config, plan, attribute_dict)\n",
    "    \n",
    "    # 转换为 PyG 数据\n",
    "    pyg_data = dgl_to_pyg(g, 0)  # 这里使用 0 作为标签，因为我们只是预测而不是训练\n",
    "    \n",
    "    # 将数据移动到正确的设备\n",
    "    pyg_data = pyg_data.to(device)\n",
    "    \n",
    "    # 模型预测\n",
    "    model.eval()\n",
    "    with torch.no_grad():\n",
    "        prediction = model.predict(pyg_data.x, pyg_data.edge_attr, pyg_data.edge_index, pyg_data.configuration_vector, pyg_data.batch)\n",
    "    \n",
    "    return prediction.item()\n",
    "\n",
    "def load_model_and_attribute_dict(model_path, attribute_dict_path):\n",
    "    # 首先，我们需要创建一个模型实例\n",
    "    model = ImprovementPredictionModelGNN(\n",
    "        data_loader.dataset[0].x.shape[1],\n",
    "        data_loader.dataset[0].edge_attr.shape[1],\n",
    "        graph_embedding_size=32,\n",
    "        config_vector_size=data_loader.dataset[0].configuration_vector.shape[0]\n",
    "    )\n",
    "    \n",
    "    # 然后，加载模型的state_dict\n",
    "    model.load_state_dict(torch.load(model_path, map_location=torch.device('cpu')))\n",
    "    \n",
    "    # 将模型设置为评估模式\n",
    "    model.eval()\n",
    "    \n",
    "    # 加载属性字典\n",
    "    with open(attribute_dict_path, 'rb') as f:\n",
    "        attribute_dict = pickle.load(f)\n",
    "    \n",
    "    return model, attribute_dict"
   ]
  },
  {
   "cell_type": "code",
   "execution_count": 3,
   "id": "7ad00d49",
   "metadata": {},
   "outputs": [
    {
     "name": "stdout",
     "output_type": "stream",
     "text": [
      "start ImprovementPredictionModelGNN\n"
     ]
    }
   ],
   "source": [
    "model_path='/home/ubuntu/project/mayang/LOGER/core/infer_model/trained_model.pth'\n",
    "attr_path='/home/ubuntu/project/mayang/LOGER/data/tpcds_1/attribute_dict.pkl'\n",
    "model,attribute_dict = load_model_and_attribute_dict(model_path,attr_path)"
   ]
  },
  {
   "cell_type": "code",
   "execution_count": 4,
   "id": "4d73b190",
   "metadata": {},
   "outputs": [
    {
     "data": {
      "text/plain": [
       "{'customer_demographics.cd_demo_sk': 0,\n",
       " 'customer_address.ca_address_sk': 1,\n",
       " 'store_sales.ss_net_profit': 2,\n",
       " 'date_dim.d_year': 3,\n",
       " 'store.s_store_sk': 4,\n",
       " 'household_demographics.hd_demo_sk': 5,\n",
       " 'date_dim.d_date_sk': 6,\n",
       " 'customer_address.ca_state': 7,\n",
       " 'web_page.wp_web_page_sk': 8,\n",
       " 'web_sales.ws_order_number': 9,\n",
       " 'web_sales.ws_item_sk': 10,\n",
       " 'store_sales.ss_sales_price': 11,\n",
       " 'income_band.ib_income_band_sk': 12,\n",
       " 'income_band.ib_lower_bound': 13,\n",
       " 'customer_address.ca_city': 14,\n",
       " 'store_returns.sr_cdemo_sk': 15,\n",
       " 'date_dim.d_month_seq': 16,\n",
       " 'item.i_item_sk': 17,\n",
       " 'customer.c_customer_sk': 18,\n",
       " 'catalog_sales.cs_sold_date_sk': 19,\n",
       " 'promotion.p_promo_sk': 20,\n",
       " 'promotion.p_channel_email': 21,\n",
       " 'catalog_sales.cs_ship_date_sk': 22,\n",
       " 'time_dim.t_hour': 23,\n",
       " 'household_demographics.hd_dep_count': 24,\n",
       " 'store_sales.ss_store_sk': 25,\n",
       " 'store_sales.ss_sold_time_sk': 26,\n",
       " 'store_sales.ss_sold_date_sk': 27,\n",
       " 'store_sales.ss_item_sk': 28,\n",
       " 'catalog_returns.cr_returned_date_sk': 29,\n",
       " 'item.i_item_id': 30,\n",
       " 'catalog_sales.cs_item_sk': 31,\n",
       " 'catalog_sales.cs_bill_customer_sk': 32,\n",
       " 'store_sales.ss_customer_sk': 33,\n",
       " 'store.s_store_name': 34,\n",
       " 'store.s_zip': 35,\n",
       " 'customer.c_current_addr_sk': 36,\n",
       " 'customer.c_current_hdemo_sk': 37,\n",
       " 'store_sales.ss_ticket_number': 38,\n",
       " 'store.s_city': 39,\n",
       " 'date_dim.d_quarter_name': 40}"
      ]
     },
     "execution_count": 4,
     "metadata": {},
     "output_type": "execute_result"
    }
   ],
   "source": [
    "attribute_dict"
   ]
  },
  {
   "cell_type": "code",
   "execution_count": 5,
   "id": "b4ca6714",
   "metadata": {},
   "outputs": [
    {
     "data": {
      "text/html": [
       "<div>\n",
       "<style scoped>\n",
       "    .dataframe tbody tr th:only-of-type {\n",
       "        vertical-align: middle;\n",
       "    }\n",
       "\n",
       "    .dataframe tbody tr th {\n",
       "        vertical-align: top;\n",
       "    }\n",
       "\n",
       "    .dataframe thead th {\n",
       "        text-align: right;\n",
       "    }\n",
       "</style>\n",
       "<table border=\"1\" class=\"dataframe\">\n",
       "  <thead>\n",
       "    <tr style=\"text-align: right;\">\n",
       "      <th></th>\n",
       "      <th>query</th>\n",
       "      <th>index</th>\n",
       "      <th>c0</th>\n",
       "      <th>c1</th>\n",
       "      <th>t0</th>\n",
       "      <th>t1</th>\n",
       "      <th>error</th>\n",
       "      <th>query_plan_no_index</th>\n",
       "      <th>query_plan_index</th>\n",
       "      <th>improvement_whatif</th>\n",
       "      <th>improvement</th>\n",
       "    </tr>\n",
       "  </thead>\n",
       "  <tbody>\n",
       "    <tr>\n",
       "      <th>0</th>\n",
       "      <td>\\n\\n\\n\\n\\nselect avg(ss_quantity)\\n       ,avg...</td>\n",
       "      <td>['I(C customer_demographics.cd_demo_sk)']</td>\n",
       "      <td>146893.67</td>\n",
       "      <td>104818.78</td>\n",
       "      <td>878.538</td>\n",
       "      <td>691.150</td>\n",
       "      <td>0.073136</td>\n",
       "      <td>[{'Plan': {'Node Type': 'Aggregate', 'Strategy...</td>\n",
       "      <td>[{'Plan': {'Node Type': 'Aggregate', 'Strategy...</td>\n",
       "      <td>0.286431</td>\n",
       "      <td>0.213295</td>\n",
       "    </tr>\n",
       "    <tr>\n",
       "      <th>1</th>\n",
       "      <td>\\n\\n\\n\\n\\nselect avg(ss_quantity)\\n       ,avg...</td>\n",
       "      <td>['I(C customer_demographics.cd_demo_sk)', 'I(C...</td>\n",
       "      <td>146893.67</td>\n",
       "      <td>103012.62</td>\n",
       "      <td>878.538</td>\n",
       "      <td>424.949</td>\n",
       "      <td>-0.217573</td>\n",
       "      <td>[{'Plan': {'Node Type': 'Aggregate', 'Strategy...</td>\n",
       "      <td>[{'Plan': {'Node Type': 'Aggregate', 'Strategy...</td>\n",
       "      <td>0.298727</td>\n",
       "      <td>0.516300</td>\n",
       "    </tr>\n",
       "    <tr>\n",
       "      <th>2</th>\n",
       "      <td>\\n\\n\\n\\n\\nselect avg(ss_quantity)\\n       ,avg...</td>\n",
       "      <td>['I(C customer_demographics.cd_demo_sk)', 'I(C...</td>\n",
       "      <td>146893.67</td>\n",
       "      <td>71299.61</td>\n",
       "      <td>878.538</td>\n",
       "      <td>342.197</td>\n",
       "      <td>-0.095875</td>\n",
       "      <td>[{'Plan': {'Node Type': 'Aggregate', 'Strategy...</td>\n",
       "      <td>[{'Plan': {'Node Type': 'Aggregate', 'Strategy...</td>\n",
       "      <td>0.514618</td>\n",
       "      <td>0.610493</td>\n",
       "    </tr>\n",
       "    <tr>\n",
       "      <th>3</th>\n",
       "      <td>\\n\\n\\n\\n\\nselect avg(ss_quantity)\\n       ,avg...</td>\n",
       "      <td>['I(C customer_demographics.cd_demo_sk)', 'I(C...</td>\n",
       "      <td>146893.67</td>\n",
       "      <td>102903.64</td>\n",
       "      <td>878.538</td>\n",
       "      <td>691.551</td>\n",
       "      <td>0.086630</td>\n",
       "      <td>[{'Plan': {'Node Type': 'Aggregate', 'Strategy...</td>\n",
       "      <td>[{'Plan': {'Node Type': 'Aggregate', 'Strategy...</td>\n",
       "      <td>0.299469</td>\n",
       "      <td>0.212839</td>\n",
       "    </tr>\n",
       "    <tr>\n",
       "      <th>4</th>\n",
       "      <td>\\n\\n\\n\\n\\nselect avg(ss_quantity)\\n       ,avg...</td>\n",
       "      <td>['I(C customer_demographics.cd_demo_sk)', 'I(C...</td>\n",
       "      <td>146893.67</td>\n",
       "      <td>104817.66</td>\n",
       "      <td>878.538</td>\n",
       "      <td>752.692</td>\n",
       "      <td>0.143194</td>\n",
       "      <td>[{'Plan': {'Node Type': 'Aggregate', 'Strategy...</td>\n",
       "      <td>[{'Plan': {'Node Type': 'Aggregate', 'Strategy...</td>\n",
       "      <td>0.286439</td>\n",
       "      <td>0.143245</td>\n",
       "    </tr>\n",
       "  </tbody>\n",
       "</table>\n",
       "</div>"
      ],
      "text/plain": [
       "                                               query  \\\n",
       "0  \\n\\n\\n\\n\\nselect avg(ss_quantity)\\n       ,avg...   \n",
       "1  \\n\\n\\n\\n\\nselect avg(ss_quantity)\\n       ,avg...   \n",
       "2  \\n\\n\\n\\n\\nselect avg(ss_quantity)\\n       ,avg...   \n",
       "3  \\n\\n\\n\\n\\nselect avg(ss_quantity)\\n       ,avg...   \n",
       "4  \\n\\n\\n\\n\\nselect avg(ss_quantity)\\n       ,avg...   \n",
       "\n",
       "                                               index         c0         c1  \\\n",
       "0          ['I(C customer_demographics.cd_demo_sk)']  146893.67  104818.78   \n",
       "1  ['I(C customer_demographics.cd_demo_sk)', 'I(C...  146893.67  103012.62   \n",
       "2  ['I(C customer_demographics.cd_demo_sk)', 'I(C...  146893.67   71299.61   \n",
       "3  ['I(C customer_demographics.cd_demo_sk)', 'I(C...  146893.67  102903.64   \n",
       "4  ['I(C customer_demographics.cd_demo_sk)', 'I(C...  146893.67  104817.66   \n",
       "\n",
       "        t0       t1     error  \\\n",
       "0  878.538  691.150  0.073136   \n",
       "1  878.538  424.949 -0.217573   \n",
       "2  878.538  342.197 -0.095875   \n",
       "3  878.538  691.551  0.086630   \n",
       "4  878.538  752.692  0.143194   \n",
       "\n",
       "                                 query_plan_no_index  \\\n",
       "0  [{'Plan': {'Node Type': 'Aggregate', 'Strategy...   \n",
       "1  [{'Plan': {'Node Type': 'Aggregate', 'Strategy...   \n",
       "2  [{'Plan': {'Node Type': 'Aggregate', 'Strategy...   \n",
       "3  [{'Plan': {'Node Type': 'Aggregate', 'Strategy...   \n",
       "4  [{'Plan': {'Node Type': 'Aggregate', 'Strategy...   \n",
       "\n",
       "                                    query_plan_index  improvement_whatif  \\\n",
       "0  [{'Plan': {'Node Type': 'Aggregate', 'Strategy...            0.286431   \n",
       "1  [{'Plan': {'Node Type': 'Aggregate', 'Strategy...            0.298727   \n",
       "2  [{'Plan': {'Node Type': 'Aggregate', 'Strategy...            0.514618   \n",
       "3  [{'Plan': {'Node Type': 'Aggregate', 'Strategy...            0.299469   \n",
       "4  [{'Plan': {'Node Type': 'Aggregate', 'Strategy...            0.286439   \n",
       "\n",
       "   improvement  \n",
       "0     0.213295  \n",
       "1     0.516300  \n",
       "2     0.610493  \n",
       "3     0.212839  \n",
       "4     0.143245  "
      ]
     },
     "execution_count": 5,
     "metadata": {},
     "output_type": "execute_result"
    }
   ],
   "source": [
    "df=pd.read_csv('/home/ubuntu/project/mayang/Classification/process_data/gene_luo/run_tpcds_1_gen_train.csv').iloc[:,2:]\n",
    "df.head()"
   ]
  },
  {
   "cell_type": "code",
   "execution_count": 6,
   "id": "081bd678",
   "metadata": {},
   "outputs": [
    {
     "data": {
      "text/plain": [
       "array([\"['I(C customer_demographics.cd_demo_sk)']\",\n",
       "       \"['I(C customer_demographics.cd_demo_sk)', 'I(C customer_address.ca_address_sk)']\",\n",
       "       \"['I(C customer_demographics.cd_demo_sk)', 'I(C store_sales.ss_net_profit)']\",\n",
       "       \"['I(C customer_demographics.cd_demo_sk)', 'I(C date_dim.d_year)']\",\n",
       "       \"['I(C customer_demographics.cd_demo_sk)', 'I(C store.s_store_sk)']\",\n",
       "       \"['I(C customer_demographics.cd_demo_sk)', 'I(C household_demographics.hd_demo_sk)']\",\n",
       "       \"['I(C customer_demographics.cd_demo_sk)', 'I(C customer_address.ca_address_sk)', 'I(C store_sales.ss_net_profit)']\",\n",
       "       \"['I(C customer_demographics.cd_demo_sk)', 'I(C store_sales.ss_net_profit)', 'I(C date_dim.d_year)']\",\n",
       "       \"['I(C customer_demographics.cd_demo_sk)', 'I(C store_sales.ss_net_profit)', 'I(C store.s_store_sk)']\",\n",
       "       \"['I(C customer_demographics.cd_demo_sk)', 'I(C store_sales.ss_net_profit)', 'I(C household_demographics.hd_demo_sk)']\"],\n",
       "      dtype=object)"
      ]
     },
     "execution_count": 6,
     "metadata": {},
     "output_type": "execute_result"
    }
   ],
   "source": [
    "df['index'].values[:10]"
   ]
  },
  {
   "cell_type": "code",
   "execution_count": 7,
   "id": "a35566c9",
   "metadata": {},
   "outputs": [
    {
     "name": "stdout",
     "output_type": "stream",
     "text": [
      "\n",
      "\n",
      "\n",
      "\n",
      "\n",
      "select avg(ss_quantity)\n",
      "       ,avg(ss_ext_sales_price)\n",
      "       ,avg(ss_ext_wholesale_cost)\n",
      "       ,sum(ss_ext_wholesale_cost)\n",
      " from store_sales\n",
      "     ,store\n",
      "     ,customer_demographics\n",
      "     ,household_demographics\n",
      "     ,customer_address\n",
      "     ,date_dim\n",
      " where s_store_sk = ss_store_sk\n",
      " and  ss_sold_date_sk = d_date_sk and d_year = 2001\n",
      " and((ss_hdemo_sk=hd_demo_sk\n",
      "  and cd_demo_sk = ss_cdemo_sk\n",
      "  and cd_marital_status = 'M'\n",
      "  and cd_education_status = 'Secondary'\n",
      "  and ss_sales_price between 100.00 and 150.00\n",
      "  and hd_dep_count = 3   \n",
      "     )or\n",
      "     (ss_hdemo_sk=hd_demo_sk\n",
      "  and cd_demo_sk = ss_cdemo_sk\n",
      "  and cd_marital_status = 'S'\n",
      "  and cd_education_status = 'Advanced Degree'\n",
      "  and ss_sales_price between 50.00 and 100.00   \n",
      "  and hd_dep_count = 1\n",
      "     ) or \n",
      "     (ss_hdemo_sk=hd_demo_sk\n",
      "  and cd_demo_sk = ss_cdemo_sk\n",
      "  and cd_marital_status = 'U'\n",
      "  and cd_education_status = 'Primary'\n",
      "  and ss_sales_price between 150.00 and 200.00 \n",
      "  and hd_dep_count = 1  \n",
      "     ))\n",
      " and((ss_addr_sk = ca_address_sk\n",
      "  and ca_country = 'United States'\n",
      "  and ca_state in ('CA', 'TX', 'LA')\n",
      "  and ss_net_profit between 100 and 200  \n",
      "     ) or\n",
      "     (ss_addr_sk = ca_address_sk\n",
      "  and ca_country = 'United States'\n",
      "  and ca_state in ('AZ', 'KS', 'NY')\n",
      "  and ss_net_profit between 150 and 300  \n",
      "     ) or\n",
      "     (ss_addr_sk = ca_address_sk\n",
      "  and ca_country = 'United States'\n",
      "  and ca_state in ('KY', 'MN', 'NE')\n",
      "  and ss_net_profit between 50 and 250  \n",
      "     ))\n",
      "\n"
     ]
    }
   ],
   "source": [
    "print(df['query'].values[0])"
   ]
  },
  {
   "cell_type": "code",
   "execution_count": 9,
   "id": "34317449",
   "metadata": {},
   "outputs": [
    {
     "name": "stdout",
     "output_type": "stream",
     "text": [
      "{'dbname': 'indexselection_tpcds___1', 'user': 'postgres', 'password': 'password', 'host': '127.0.0.1', 'cache': False}\n",
      "<connection object at 0x7f21b4ff72c0; dsn: 'user=postgres password=xxx dbname=indexselection_tpcds___1 host=127.0.0.1 port=5432', closed: 0>\n",
      "<cursor object at 0x7f21bada95e0; closed: 0>\n",
      "error cmp ( ( store_sales.ss_hdemo_sk = household_demographics.hd_demo_sk AND customer_demographics.cd_demo_sk = store_sales.ss_cdemo_sk AND customer_demographics.cd_marital_status = 'M' AND customer_demographics.cd_education_status = 'Secondary' AND store_sales.ss_sales_price BETWEEN 100.0 AND 150.0 AND household_demographics.hd_dep_count = 3) OR ( store_sales.ss_hdemo_sk = household_demographics.hd_demo_sk AND customer_demographics.cd_demo_sk = store_sales.ss_cdemo_sk AND customer_demographics.cd_marital_status = 'S' AND customer_demographics.cd_education_status = 'Advanced Degree' AND store_sales.ss_sales_price BETWEEN 50.0 AND 100.0 AND household_demographics.hd_dep_count = 1) OR ( store_sales.ss_hdemo_sk = household_demographics.hd_demo_sk AND customer_demographics.cd_demo_sk = store_sales.ss_cdemo_sk AND customer_demographics.cd_marital_status = 'U' AND customer_demographics.cd_education_status = 'Primary' AND store_sales.ss_sales_price BETWEEN 150.0 AND 200.0 AND household_demographics.hd_dep_count = 1))\n",
      "error cmp ( ( store_sales.ss_addr_sk = customer_address.ca_address_sk AND customer_address.ca_country = 'United States' AND customer_address.ca_state IN ('CA',\n",
      "'TX',\n",
      "'LA') AND store_sales.ss_net_profit BETWEEN 100 AND 200) OR ( store_sales.ss_addr_sk = customer_address.ca_address_sk AND customer_address.ca_country = 'United States' AND customer_address.ca_state IN ('AZ',\n",
      "'KS',\n",
      "'NY') AND store_sales.ss_net_profit BETWEEN 150 AND 300) OR ( store_sales.ss_addr_sk = customer_address.ca_address_sk AND customer_address.ca_country = 'United States' AND customer_address.ca_state IN ('KY',\n",
      "'MN',\n",
      "'NE') AND store_sales.ss_net_profit BETWEEN 50 AND 250))\n",
      "add edge vector: 2\n"
     ]
    },
    {
     "data": {
      "text/plain": [
       "0.19708728790283203"
      ]
     },
     "execution_count": 9,
     "metadata": {},
     "output_type": "execute_result"
    }
   ],
   "source": [
    "database.setup(dbname='indexselection_tpcds___1',\n",
    "            user='postgres',\n",
    "            password='password',\n",
    "            host='127.0.0.1', cache=False)\n",
    "idx=0\n",
    "predict_query_improvement(df['query'].values[idx],\"['I(C customer_demographics.cd_demo_sk)']\",df['query_plan_no_index'].values[idx],model,attribute_dict,'cpu')"
   ]
  },
  {
   "cell_type": "code",
   "execution_count": 19,
   "id": "21f0606d",
   "metadata": {},
   "outputs": [
    {
     "data": {
      "text/plain": [
       "\"['I(C customer_demographics.cd_demo_sk)', 'I(C store.s_store_sk)']\""
      ]
     },
     "execution_count": 19,
     "metadata": {},
     "output_type": "execute_result"
    }
   ],
   "source": [
    "df['index'].values[idx]"
   ]
  },
  {
   "cell_type": "code",
   "execution_count": null,
   "id": "7a3433c1",
   "metadata": {},
   "outputs": [],
   "source": []
  }
 ],
 "metadata": {
  "kernelspec": {
   "display_name": "test",
   "language": "python",
   "name": "python3"
  },
  "language_info": {
   "codemirror_mode": {
    "name": "ipython",
    "version": 3
   },
   "file_extension": ".py",
   "mimetype": "text/x-python",
   "name": "python",
   "nbconvert_exporter": "python",
   "pygments_lexer": "ipython3",
   "version": "3.8.19"
  }
 },
 "nbformat": 4,
 "nbformat_minor": 5
}
