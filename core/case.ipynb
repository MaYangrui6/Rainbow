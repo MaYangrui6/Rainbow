{
 "cells": [
  {
   "cell_type": "code",
   "execution_count": 2,
   "metadata": {},
   "outputs": [],
   "source": [
    "import math\n",
    "import torch\n",
    "import gpytorch\n",
    "from matplotlib import pyplot as plt\n",
    "\n",
    "%matplotlib inline\n",
    "%load_ext autoreload\n",
    "%autoreload 2"
   ]
  },
  {
   "cell_type": "code",
   "execution_count": 3,
   "metadata": {},
   "outputs": [],
   "source": [
    "# Training data is 100 points in [0,1] inclusive regularly spaced\n",
    "train_x = torch.linspace(0, 1, 100)\n",
    "# True function is sin(2*pi*x) with Gaussian noise\n",
    "train_y = torch.sin(train_x * (2 * math.pi)) + torch.randn(train_x.size()) * math.sqrt(0.04)"
   ]
  },
  {
   "cell_type": "code",
   "execution_count": 8,
   "metadata": {},
   "outputs": [
    {
     "data": {
      "text/plain": [
       "torch.Size([100])"
      ]
     },
     "execution_count": 8,
     "metadata": {},
     "output_type": "execute_result"
    }
   ],
   "source": [
    "train_y.shape"
   ]
  },
  {
   "cell_type": "code",
   "execution_count": 4,
   "metadata": {},
   "outputs": [],
   "source": [
    "# We will use the simplest form of GP model, exact inference\n",
    "class ExactGPModel(gpytorch.models.ExactGP):\n",
    "    def __init__(self, train_x, train_y, likelihood):\n",
    "        super(ExactGPModel, self).__init__(train_x, train_y, likelihood)\n",
    "        self.mean_module = gpytorch.means.ConstantMean()\n",
    "        self.covar_module = gpytorch.kernels.ScaleKernel(gpytorch.kernels.RBFKernel())\n",
    "    \n",
    "    def forward(self, x):\n",
    "        mean_x = self.mean_module(x)\n",
    "        covar_x = self.covar_module(x)\n",
    "        return gpytorch.distributions.MultivariateNormal(mean_x, covar_x)\n",
    "\n",
    "# initialize likelihood and model\n",
    "likelihood = gpytorch.likelihoods.GaussianLikelihood()\n",
    "model = ExactGPModel(train_x, train_y, likelihood)"
   ]
  },
  {
   "cell_type": "code",
   "execution_count": 7,
   "metadata": {},
   "outputs": [
    {
     "name": "stdout",
     "output_type": "stream",
     "text": [
      "torch.Size([100])\n",
      "Iter 1/10 - Loss: 0.186   lengthscale: 0.278   noise: 0.126\n",
      "torch.Size([100])\n",
      "Iter 2/10 - Loss: 0.159   lengthscale: 0.255   noise: 0.115\n",
      "torch.Size([100])\n",
      "Iter 3/10 - Loss: 0.133   lengthscale: 0.266   noise: 0.105\n",
      "torch.Size([100])\n",
      "Iter 4/10 - Loss: 0.109   lengthscale: 0.278   noise: 0.095\n",
      "torch.Size([100])\n",
      "Iter 5/10 - Loss: 0.087   lengthscale: 0.276   noise: 0.087\n",
      "torch.Size([100])\n",
      "Iter 6/10 - Loss: 0.067   lengthscale: 0.269   noise: 0.079\n",
      "torch.Size([100])\n",
      "Iter 7/10 - Loss: 0.049   lengthscale: 0.263   noise: 0.072\n",
      "torch.Size([100])\n",
      "Iter 8/10 - Loss: 0.035   lengthscale: 0.262   noise: 0.065\n",
      "torch.Size([100])\n",
      "Iter 9/10 - Loss: 0.024   lengthscale: 0.267   noise: 0.060\n",
      "torch.Size([100])\n",
      "Iter 10/10 - Loss: 0.015   lengthscale: 0.274   noise: 0.055\n"
     ]
    }
   ],
   "source": [
    "# this is for running the notebook in our testing framework\n",
    "import os\n",
    "smoke_test = ('CI' in os.environ)\n",
    "training_iter = 2 if smoke_test else 10\n",
    "\n",
    "\n",
    "# Find optimal model hyperparameters\n",
    "model.train()\n",
    "likelihood.train()\n",
    "\n",
    "# Use the adam optimizer\n",
    "optimizer = torch.optim.Adam(model.parameters(), lr=0.1)  # Includes GaussianLikelihood parameters\n",
    "\n",
    "# \"Loss\" for GPs - the marginal log likelihood\n",
    "mll = gpytorch.mlls.ExactMarginalLogLikelihood(likelihood, model)\n",
    "\n",
    "for i in range(training_iter):\n",
    "    # Zero gradients from previous iteration\n",
    "    optimizer.zero_grad()\n",
    "    # Output from model\n",
    "    output = model(train_x)\n",
    "    # Calc loss and backprop gradients\n",
    "    print(train_y.shape)\n",
    "    loss = -mll(output, train_y)\n",
    "    loss.backward()\n",
    "    print('Iter %d/%d - Loss: %.3f   lengthscale: %.3f   noise: %.3f' % (\n",
    "        i + 1, training_iter, loss.item(),\n",
    "        model.covar_module.base_kernel.lengthscale.item(),\n",
    "        model.likelihood.noise.item()\n",
    "    ))\n",
    "    optimizer.step()"
   ]
  },
  {
   "cell_type": "code",
   "execution_count": 9,
   "metadata": {},
   "outputs": [],
   "source": [
    "# Get into evaluation (predictive posterior) mode\n",
    "model.eval()\n",
    "likelihood.eval()\n",
    "\n",
    "# Test points are regularly spaced along [0,1]\n",
    "# Make predictions by feeding model through likelihood\n",
    "with torch.no_grad(), gpytorch.settings.fast_pred_var():\n",
    "    test_x = torch.linspace(0, 1, 51)\n",
    "    observed_pred = likelihood(model(test_x))"
   ]
  },
  {
   "cell_type": "code",
   "execution_count": 10,
   "metadata": {},
   "outputs": [
    {
     "data": {
      "image/png": "[encoded data removed]",
      "text/plain": [
       "<Figure size 288x216 with 1 Axes>"
      ]
     },
     "metadata": {
      "needs_background": "light"
     },
     "output_type": "display_data"
    }
   ],
   "source": [
    "with torch.no_grad():\n",
    "    # Initialize plot\n",
    "    f, ax = plt.subplots(1, 1, figsize=(4, 3))\n",
    "\n",
    "    # Get upper and lower confidence bounds\n",
    "    lower, upper = observed_pred.confidence_region()\n",
    "    # Plot training data as black stars\n",
    "    ax.plot(train_x.numpy(), train_y.numpy(), 'k*')\n",
    "    # Plot predictive means as blue line\n",
    "    ax.plot(test_x.numpy(), observed_pred.mean.numpy(), 'b')\n",
    "    # Shade between the lower and upper confidence bounds\n",
    "    ax.fill_between(test_x.numpy(), lower.numpy(), upper.numpy(), alpha=0.5)\n",
    "    ax.set_ylim([-3, 3])\n",
    "    ax.legend(['Observed Data', 'Mean', 'Confidence'])"
   ]
  },
  {
   "cell_type": "code",
   "execution_count": 7,
   "metadata": {},
   "outputs": [],
   "source": [
    "a=[[[0, 1, 1, 11.532728092266408, 0.0, 0.4458039, 0, 0, 0, 1, 0, 5.298317366548036, 4.605170185988092], [0, 1, 1, 11.532728092266408, 0.0, 0.4458039, 0, 0, 1, 0, 0, 5.298317366548036, 7.9996785794994505], [0, 1, 1, 11.532728092266408, 0.0, 0.4458039, 0, 0, 0, 1, 0, 5.424950017481403, 8.252185436003328], [0, 1, 1, 11.532728092266408, 0.0, 0.4458039, 0, 0, 1, 0, 0, 4.8283137373023015, 7.608374474380783], [0, 1, 1, 11.532728092266408, 0.0, 0.4458039, 0, 0, 1, 0, 0, 3.9512437185814275, 6.51025834052315], [0, 1, 1, 11.532728092266408, 0.0, 0.4458039, 0, 0, 0, 0, 1, 3.9512437185814275, 6.775366090936392], [0, 1, 1, 11.532728092266408, 0.0, 0.4458039, 0, 0, 0, 1, 0, 6.20455776256869, 9.184099060770956], [0, 1, 1, 11.532728092266408, 0.0, 0.4458039, 0, 0, 0, 1, 0, 8.474494436883122, 8.480321716640333], [0, 1, 1, 11.532728092266408, 0.0, 0.4458039, 0, 0, 1, 0, 0, 4.219507705176107, 7.106606137727303], [0, 1, 1, 11.532728092266408, 0.0, 0.4458039, 0, 0, 1, 0, 0, 3.332204510175204, 6.008813185442595], [0, 1, 1, 11.532728092266408, 0.0, 0.4458039, 0, 0, 0, 0, 1, 3.332204510175204, 6.159095388491933], [0, 1, 1, 11.532728092266408, 0.0, 0.4458039, 0, 0, 0, 1, 0, 5.598421958998375, 8.517793011488205], [0, 1, 1, 11.532728092266408, 0.0, 0.4458039, 0, 0, 0, 1, 0, 8.474494436883122, 8.480321716640333], [0, 1, 1, 11.532728092266408, 0.0, 0.4458039, 0, 0, 1, 0, 0, 3.5263605246161616, 6.398594934535208], [0, 1, 1, 11.532728092266408, 0.0, 0.4458039, 0, 0, 0, 1, 0, 3.5263605246161616, 6.492239835020471], [0, 1, 1, 11.532728092266408, 0.0, 0.4458039, 0, 0, 0, 0, 1, 3.5263605246161616, 6.492239835020471], [0, 1, 1, 11.532728092266408, 0.0023666667, 0.0009019607843137254, 1, 0, 0, 0, 0, 8.474494436883122, 8.480321716640333], [0, 1, 1, 11.532728092266408, 0.0023666667, 0.0009019607843137254, 1, 0, 0, 0, 0, 8.474494436883122, 8.480321716640333], [0, 1, 1, 11.532728092266408, 0.0023666667, 0.0009019607843137254, 1, 0, 0, 0, 0, 8.474494436883122, 8.480321716640333], [1, 0, 0, 11.198885727831211, 0.0, 0.0027378882667798326, 1, 0, 0, 0, 0, 2.8903717578961645, 3.4339872044851463], [1, 0, 0, 11.198885727831211, 0.0, 0.0027378882667798326, 1, 0, 0, 0, 0, 2.8903717578961645, 3.4339872044851463], [1, 0, 0, 11.198885727831211, 0.0, 0.0027378882667798326, 1, 0, 0, 0, 0, 2.8903717578961645, 3.4339872044851463], [1, 0, 0, 17.175920388957422, 0.047133334, 6.329643090071342e-05, 0, 0, 0, 0, 1, 8.454466361507933, 11.408875201667874]], 0.051231650722236406]"
   ]
  },
  {
   "cell_type": "code",
   "execution_count": 8,
   "metadata": {},
   "outputs": [
    {
     "name": "stdout",
     "output_type": "stream",
     "text": [
      "[0, 1, 1, 11.532728092266408, 0.0, 0.4458039, 0, 0, 0, 1, 0, 5.298317366548036, 4.605170185988092]\n",
      "[0, 1, 1, 11.532728092266408, 0.0, 0.4458039, 0, 0, 1, 0, 0, 5.298317366548036, 7.9996785794994505]\n",
      "[0, 1, 1, 11.532728092266408, 0.0, 0.4458039, 0, 0, 0, 1, 0, 5.424950017481403, 8.252185436003328]\n",
      "[0, 1, 1, 11.532728092266408, 0.0, 0.4458039, 0, 0, 1, 0, 0, 4.8283137373023015, 7.608374474380783]\n",
      "[0, 1, 1, 11.532728092266408, 0.0, 0.4458039, 0, 0, 1, 0, 0, 3.9512437185814275, 6.51025834052315]\n",
      "[0, 1, 1, 11.532728092266408, 0.0, 0.4458039, 0, 0, 0, 0, 1, 3.9512437185814275, 6.775366090936392]\n",
      "[0, 1, 1, 11.532728092266408, 0.0, 0.4458039, 0, 0, 0, 1, 0, 6.20455776256869, 9.184099060770956]\n",
      "[0, 1, 1, 11.532728092266408, 0.0, 0.4458039, 0, 0, 0, 1, 0, 8.474494436883122, 8.480321716640333]\n",
      "[0, 1, 1, 11.532728092266408, 0.0, 0.4458039, 0, 0, 1, 0, 0, 4.219507705176107, 7.106606137727303]\n",
      "[0, 1, 1, 11.532728092266408, 0.0, 0.4458039, 0, 0, 1, 0, 0, 3.332204510175204, 6.008813185442595]\n",
      "[0, 1, 1, 11.532728092266408, 0.0, 0.4458039, 0, 0, 0, 0, 1, 3.332204510175204, 6.159095388491933]\n",
      "[0, 1, 1, 11.532728092266408, 0.0, 0.4458039, 0, 0, 0, 1, 0, 5.598421958998375, 8.517793011488205]\n",
      "[0, 1, 1, 11.532728092266408, 0.0, 0.4458039, 0, 0, 0, 1, 0, 8.474494436883122, 8.480321716640333]\n",
      "[0, 1, 1, 11.532728092266408, 0.0, 0.4458039, 0, 0, 1, 0, 0, 3.5263605246161616, 6.398594934535208]\n",
      "[0, 1, 1, 11.532728092266408, 0.0, 0.4458039, 0, 0, 0, 1, 0, 3.5263605246161616, 6.492239835020471]\n",
      "[0, 1, 1, 11.532728092266408, 0.0, 0.4458039, 0, 0, 0, 0, 1, 3.5263605246161616, 6.492239835020471]\n",
      "[0, 1, 1, 11.532728092266408, 0.0023666667, 0.0009019607843137254, 1, 0, 0, 0, 0, 8.474494436883122, 8.480321716640333]\n",
      "[0, 1, 1, 11.532728092266408, 0.0023666667, 0.0009019607843137254, 1, 0, 0, 0, 0, 8.474494436883122, 8.480321716640333]\n",
      "[0, 1, 1, 11.532728092266408, 0.0023666667, 0.0009019607843137254, 1, 0, 0, 0, 0, 8.474494436883122, 8.480321716640333]\n",
      "[1, 0, 0, 11.198885727831211, 0.0, 0.0027378882667798326, 1, 0, 0, 0, 0, 2.8903717578961645, 3.4339872044851463]\n",
      "[1, 0, 0, 11.198885727831211, 0.0, 0.0027378882667798326, 1, 0, 0, 0, 0, 2.8903717578961645, 3.4339872044851463]\n",
      "[1, 0, 0, 11.198885727831211, 0.0, 0.0027378882667798326, 1, 0, 0, 0, 0, 2.8903717578961645, 3.4339872044851463]\n",
      "[1, 0, 0, 17.175920388957422, 0.047133334, 6.329643090071342e-05, 0, 0, 0, 0, 1, 8.454466361507933, 11.408875201667874]\n"
     ]
    }
   ],
   "source": [
    "for i in a[0]:\n",
    "    print(i)"
   ]
  },
  {
   "cell_type": "code",
   "execution_count": 9,
   "metadata": {},
   "outputs": [
    {
     "data": {
      "text/plain": [
       "0.051231650722236406"
      ]
     },
     "execution_count": 9,
     "metadata": {},
     "output_type": "execute_result"
    }
   ],
   "source": [
    "a[1]"
   ]
  },
  {
   "cell_type": "code",
   "execution_count": null,
   "metadata": {},
   "outputs": [],
   "source": []
  }
 ],
 "metadata": {
  "kernelspec": {
   "display_name": "test",
   "language": "python",
   "name": "python3"
  },
  "language_info": {
   "codemirror_mode": {
    "name": "ipython",
    "version": 3
   },
   "file_extension": ".py",
   "mimetype": "text/x-python",
   "name": "python",
   "nbconvert_exporter": "python",
   "pygments_lexer": "ipython3",
   "version": "3.8.19"
  }
 },
 "nbformat": 4,
 "nbformat_minor": 2
}
